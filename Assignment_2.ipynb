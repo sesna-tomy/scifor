{
  "nbformat": 4,
  "nbformat_minor": 0,
  "metadata": {
    "colab": {
      "provenance": [],
      "authorship_tag": "ABX9TyMCFzHAPbX9cA33jhy05qMN",
      "include_colab_link": true
    },
    "kernelspec": {
      "name": "python3",
      "display_name": "Python 3"
    },
    "language_info": {
      "name": "python"
    }
  },
  "cells": [
    {
      "cell_type": "markdown",
      "metadata": {
        "id": "view-in-github",
        "colab_type": "text"
      },
      "source": [
        "<a href=\"https://colab.research.google.com/github/sesna-tomy/scifor/blob/main/Assignment_2.ipynb\" target=\"_parent\"><img src=\"https://colab.research.google.com/assets/colab-badge.svg\" alt=\"Open In Colab\"/></a>"
      ]
    },
    {
      "cell_type": "markdown",
      "source": [
        "**1. What is the difference between a list and a tuple in Python?**\n",
        "\n",
        "**List:**\n",
        "\n",
        "Lists are mutable. That is, we can add, remove or change elements after creating them.\n",
        "\n",
        "They are created with [ ] eg: list_ = [1,2,3,4,5]\n",
        "\n",
        "They are more sutable when we need to modify the elements\n",
        "\n",
        "They have buit-in methords for adding, removing and modifying elements\n",
        "\n",
        "We can increase or decrease the size of lists\n",
        "\n",
        "\n",
        "**Tuples:**\n",
        "\n",
        "Tubles are unmutable.Elements cannot be added removed or be modified.\n",
        "\n",
        "They are created with ( ) eg: tuple_ = (1,2,3,4,5)\n",
        "\n",
        "They are used when we don't need the values to change during the programe.\n",
        "\n",
        "They do not have built-in methords for adding, removing and modifying elements\n",
        "\n",
        "We can not increase or decrease the size of tuples\n",
        "\n",
        "\n"
      ],
      "metadata": {
        "id": "tyM_KfwgLsH-"
      }
    },
    {
      "cell_type": "markdown",
      "source": [
        "**2. How can you iterate through a list in Python?**\n",
        "\n",
        "We can iterate through list using  **for** loop, **while** loop or list comprehension"
      ],
      "metadata": {
        "id": "isWWQIWEpwIq"
      }
    },
    {
      "cell_type": "code",
      "source": [
        "lst = [1,2,3,4,5,6]\n",
        "print('using for loop')\n",
        "\n",
        "for i in lst:\n",
        "  print(i)\n",
        "\n",
        "print('using while loop')\n",
        "\n",
        "i = 0\n",
        "while i<len(lst):\n",
        "  print(lst[i])\n",
        "  i+=1\n",
        "\n",
        "\n",
        "print('using list ncomprehension')\n",
        "\n",
        "lst1 = [i**2 for i in lst]\n",
        "print(lst1)\n"
      ],
      "metadata": {
        "colab": {
          "base_uri": "https://localhost:8080/"
        },
        "id": "3upXWfbJpmSP",
        "outputId": "f1f97aef-a11d-4cde-ff36-626fdab03ca6"
      },
      "execution_count": null,
      "outputs": [
        {
          "output_type": "stream",
          "name": "stdout",
          "text": [
            "using for loop\n",
            "1\n",
            "2\n",
            "3\n",
            "4\n",
            "5\n",
            "6\n",
            "using while loop\n",
            "1\n",
            "2\n",
            "3\n",
            "4\n",
            "5\n",
            "6\n",
            "using list ncomprehension\n",
            "[1, 4, 9, 16, 25, 36]\n"
          ]
        }
      ]
    },
    {
      "cell_type": "markdown",
      "source": [
        "**3.How do you handle exceptions in Python**\n",
        "\n",
        "exception handiling is used to handle errors and unexpected situations in a programe. we use try and expect block for exeption handiling"
      ],
      "metadata": {
        "id": "TyEzNRVvrg0n"
      }
    },
    {
      "cell_type": "code",
      "source": [
        "#exception handiling\n",
        "\n",
        "try:\n",
        "    user_input = input(\"Enter an integer: \")\n",
        "    number = int(user_input)\n",
        "    print(\"You entered:\", number)\n",
        "except ValueError:\n",
        "    print(\"Invalid input. Please enter a valid integer.\")\n"
      ],
      "metadata": {
        "colab": {
          "base_uri": "https://localhost:8080/"
        },
        "id": "MkKRCvtrtZ7i",
        "outputId": "25046c4a-8413-44f3-cc9b-5a9843ce39eb"
      },
      "execution_count": null,
      "outputs": [
        {
          "output_type": "stream",
          "name": "stdout",
          "text": [
            "Enter an integer: #\n",
            "Invalid input. Please enter a valid integer.\n"
          ]
        }
      ]
    },
    {
      "cell_type": "markdown",
      "source": [
        "**4. What are list comprehensions in Python**\n",
        "\n",
        "List comprehension is used to create a new list form an existing iterable. It is done by applying a operations to each element in the existing list"
      ],
      "metadata": {
        "id": "UqLV67ontz7b"
      }
    },
    {
      "cell_type": "code",
      "source": [
        "# list comprehension\n",
        "lst = [1,2,3,4,5]\n",
        "square = [i**2 for i in lst]\n",
        "print(square)"
      ],
      "metadata": {
        "colab": {
          "base_uri": "https://localhost:8080/"
        },
        "id": "Ox854CtPutDj",
        "outputId": "50d2373f-87dd-45b7-b21d-4e5c3cd1f7a8"
      },
      "execution_count": null,
      "outputs": [
        {
          "output_type": "stream",
          "name": "stdout",
          "text": [
            "[1, 4, 9, 16, 25]\n"
          ]
        }
      ]
    },
    {
      "cell_type": "markdown",
      "source": [
        "**5.What is the purpose of the if __name__ == \"__main__\" statement**\n",
        "\n",
        "It controls the execution of codes in a program.It makes sure that some codes are executed only when the programe is executed as the main programe and is not executed when the module is imported into other python scripts."
      ],
      "metadata": {
        "id": "foogio9dvAQX"
      }
    },
    {
      "cell_type": "markdown",
      "source": [
        "**6.What is the purpose of the with statement in Python**\n",
        "\n",
        "\n",
        "The **with** statement in Python is used to simplify resource management, like file handling, by ensuring resources are properly opened and closed. It helps maintain clean and readable code. This makes sure that resources are correctly managed, leading to safer and more maintainable cod"
      ],
      "metadata": {
        "id": "cjqtSq7hwr8N"
      }
    },
    {
      "cell_type": "markdown",
      "source": [
        "**7.What are the key features of Spark?**\n",
        "\n",
        "High Speed data-processing\n",
        "\n",
        "It has easy to use APIs in different languages such as python,java,scala etc.\n",
        "\n",
        "It has IN-memory processing which helps in fast data retrivel and processing\n",
        "\n",
        "Has real time and graph processing\n",
        "\n"
      ],
      "metadata": {
        "id": "WKbxskcgELjU"
      }
    },
    {
      "cell_type": "markdown",
      "source": [
        "**8.What are Resilient Distributed Datasets (RDDs) in Spark**\n",
        "\n",
        "They are the funtamental data structure in Apache Spark\n",
        "\n",
        "They are resilient. which means they are fault-tolerant. An RDD created in a node can be accessed on multiple nodes\n",
        "\n",
        "RDDs are distributed across multiple nodes in a cluster\n",
        "\n",
        "RDDs are immutable, meaning once they are created, their content cannot be changed.\n",
        "\n",
        "Transformations on RDDs are lazily evaluated, meaning that the actual execution is postponed until an action is triggered. This optimizes the execution plan and improves efficiency."
      ],
      "metadata": {
        "id": "x5dVKY-lHsCp"
      }
    },
    {
      "cell_type": "markdown",
      "source": [
        "**9. What is the difference between a DataFrame and an RDD in Spark?**\n",
        "\n",
        "\n",
        "**DataFrames**\n",
        "\n",
        "They are high-level abstraction that deals with structured data.they are similar to tables in a database, that is, it contains columns,row schema etc. They are easier to use and user-friendly\n",
        "\n",
        "**RDD**\n",
        "\n",
        "They are low-level abstraction that deals with both structured and unstructured data.RDDs perfomance depends on the code and optimizations.RDDs can be used with these libraries but may require more custom integration"
      ],
      "metadata": {
        "id": "3gThtVzUJjHQ"
      }
    },
    {
      "cell_type": "markdown",
      "source": [
        "**10.What is Spark's ecosystem**\n",
        "\n",
        "Spark Core: It is the foundation of Spark, which provides distributed task scheduling, memory management, and fault recovery.\n",
        "\n",
        "Spark SQL: A spark module used for processing structured and semi-structured data\n",
        "\n",
        "Spark Streaming: Module  used to process real-time and streaming data\n",
        "\n",
        "Spark MLlib: A Machine learning library for Spark, offering tools and algorithms for tasks like classification, regression, clustering,etc.\n",
        "\n",
        "Spark GraphX: A Spark library for graph processing and analytics."
      ],
      "metadata": {
        "id": "Js7-lQq-MZip"
      }
    }
  ]
}