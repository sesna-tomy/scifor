{
  "nbformat": 4,
  "nbformat_minor": 0,
  "metadata": {
    "colab": {
      "provenance": [],
      "authorship_tag": "ABX9TyNmaTBVbgqzPqqfP7R/QZF1",
      "include_colab_link": true
    },
    "kernelspec": {
      "name": "python3",
      "display_name": "Python 3"
    },
    "language_info": {
      "name": "python"
    }
  },
  "cells": [
    {
      "cell_type": "markdown",
      "metadata": {
        "id": "view-in-github",
        "colab_type": "text"
      },
      "source": [
        "<a href=\"https://colab.research.google.com/github/sesna-tomy/scifor/blob/main/decisiontree_test.ipynb\" target=\"_parent\"><img src=\"https://colab.research.google.com/assets/colab-badge.svg\" alt=\"Open In Colab\"/></a>"
      ]
    },
    {
      "cell_type": "markdown",
      "source": [
        "**1.  Describe the decision tree classifier algorithm and how it works to make predictions.**\n",
        "\n",
        "Decision tree Classifier is a Machine Learning algorithm used for both classification and regression tasks.It has a tree-like structure where the internal nodes denotes the decision based on the feature, branches denote the rules based on the decision and the leaf nodes denote the result of the algorithm.\n",
        "\n",
        "The decision tree takse an initial decision based on a specific feature that gives the best split as the root node.\n",
        "\n",
        "Based on the whether the condition is true or false it proceeds to the next node by selecting the best feature to split the dataset.\n",
        "\n",
        "This is repeated till a certain criterion is met or the leaf node is reached."
      ],
      "metadata": {
        "id": "h0djyqX9GX0C"
      }
    },
    {
      "cell_type": "markdown",
      "source": [
        "**2. Provide a step-by-step explanation of the mathematical intuition behind decision tree classification.**\n",
        "\n",
        "Entropy - It is the measure of impurity or randomness of a dataset.\n",
        "\n",
        "Entropy = -summation p(i)log2(p(i))\n",
        "\n",
        "Information Gain - It is a feature used to detemine which feature should be used to split the dataset.\n",
        "\n",
        "IG = E - (E1+E2)\n",
        "\n",
        "where E is the entropy of the data before splitting and E1 & E2 are the entropy of the data after splitting\n",
        "\n",
        "Gini Index\n",
        " GI = 1-summation (pi)^2\n",
        "\n",
        "\n",
        "\n",
        "\n",
        "\n",
        "\n"
      ],
      "metadata": {
        "id": "FjwTU5HfO5A7"
      }
    },
    {
      "cell_type": "markdown",
      "source": [
        "**3. Explain how a decision tree classifier can be used to solve a binary classification problem.**\n",
        "\n",
        "The Decision tree takes the data that contain the features and a binary label indicating the class. It selects the feature that gives the best split from the training dataset based on the chosen criterian such as information gain or gini impurity. The datasset is then split into subsets based on if the condition is true or false . This process is repeted for at each node until the stopping criterion is met. They can be reaching the maximum depth, getting minimum number of leaf nodes etc.\n",
        "\n",
        "When a new instance in provided, it strats form the root node and then traverse the branches based on the values of the features.At each node the algorithm compares the feature to the condition and follows the appropriate branch based on the condition."
      ],
      "metadata": {
        "id": "J04pQYSjUsb4"
      }
    },
    {
      "cell_type": "markdown",
      "source": [
        "**4. Discuss the geometric intuition behind decision tree classification and how it can be used to make\n",
        "predictions.**\n",
        "\n",
        "Each node in the decision tree represents a decision boundary in the feature space. The decision at a node is based on a particular feature and a threshold value.\n",
        "The leaf nodes of the decision tree correspond to decision regions in the feature space. Each leaf node is associated with a specific class label.\n",
        "To make predictions for a new instance, you traverse the decision tree from the root node to a leaf node based on the feature values of the instance."
      ],
      "metadata": {
        "id": "MZel2wKVYx_n"
      }
    },
    {
      "cell_type": "markdown",
      "source": [
        "**5. Define the confusion matrix and describe how it can be used to evaluate the performance of a\n",
        "classification model.**\n",
        "Confution metrix is a table used to evaluate the performance of a model by summerizing the True Positive, True Negative, False Positive and False Negative predictions\n",
        "\n",
        "True Positive - Instance that are correctly predictied as Positive\n",
        "\n",
        "True Negative - Instance that are correctly predicted as Negative\n",
        "\n",
        "False Positve - Instnace that are predicted as Positive while it is Negative\n",
        "\n",
        "False Negative - Instance that are predicted as Negative while it is Positive\n",
        "\n",
        "Accuracy - It measures the overall correctness of the model.\n",
        "\n",
        "Accuracy = (TP + TN) / (TP + TN + FP + FN)\n",
        "\n",
        "Precision -  It measures the accuracy of positive predictions. Precision is useful when the cost of false positives is high.\n",
        "\n",
        "Precision = TP / (TP + FP)\n",
        "\n",
        "Recall - It measures the ability of the model to capture all positive instances. Recall is useful when the cost of false negatives is high.\n",
        "\n",
        "Recall = TP / (TP + FN)\n",
        "\n",
        "F1 Score - It provides a balance between precision and recall. It is particularly useful when there is an uneven class distribution.\n",
        "\n",
        "F1 Score = 2 * (Precision * Recall) / (Precision + Recall):"
      ],
      "metadata": {
        "id": "qrp3D_SVZ8lw"
      }
    },
    {
      "cell_type": "markdown",
      "source": [
        "**6. Provide an example of a confusion matrix and explain how precision, recall, and F1 score can be\n",
        "calculated from it.**\n",
        "\n",
        "Consider the Confution metrix given below:\n",
        "\n",
        "                        Actual Positive        Actual Negative\n",
        "\n",
        "      Predicted Positive        100                      15\n",
        "\n",
        "      Predicted Negative        10                       75\n",
        "\n",
        "Here ,\n",
        "TP = 100\n",
        "TN = 75\n",
        "FP = 15\n",
        "FN = 10\n",
        "\n",
        "Precision = TP/(TP+FP) = 100 /(100+15) = 100/115 = 0.86\n",
        "\n",
        "Recall = TP/(TP+FN) = 100/(100+10) = 100/110 = 0.90\n",
        "\n",
        "F1_Score = 2(Precision*Recall)/Precision+Recall = 2(0.86*0.90)/0.86+0.90 = 1.548/1.76 = 0.8795"
      ],
      "metadata": {
        "id": "q33zyzvtcrjr"
      }
    },
    {
      "cell_type": "markdown",
      "source": [
        "**7. Discuss the importance of choosing an appropriate evaluation metric for a classification problem and\n",
        "explain how this can be done.**\n",
        "\n",
        "Choosing the appropriate evaluation metric is important because by taking the right metric it will help us improve the performance of the model. this cna be done by understanding  the problem we are trying to solving and understanding the bussiness needs.\n"
      ],
      "metadata": {
        "id": "KnHPvMXIg5mF"
      }
    },
    {
      "cell_type": "markdown",
      "source": [
        "**8.Provide an example of a classification problem where precision is the most important metric, and\n",
        "explain why.**\n",
        "\n",
        "Consider problem where a preson has cancer or not\n",
        "\n",
        "positive class - the person has cancer\n",
        "\n",
        "negative class - the preson do not have cancer\n",
        "\n",
        "In this scenario, precision is crucial because it focuses on the accuracy of positive predictions, i.e., the individuals identified by the test as having cancer. A false positive in this context means that the test incorrectly identifies an individual as having the cancer when they do not. The consequence of a false positive is that a healthy person need to undergo unnecessary medical procedures, potentially causing physical and emotional distress. Here we can use precision to minimize the number of false positives."
      ],
      "metadata": {
        "id": "OZH0g5mthbvk"
      }
    },
    {
      "cell_type": "markdown",
      "source": [
        "**9. . Provide an example of a classification problem where recall is the most important metric, and explain\n",
        "why.**\n",
        "\n",
        "consider the problem where we are distinguishing between covid positive and covid negative individuals.\n",
        "\n",
        "positive class - the person have covid\n",
        "\n",
        "negtive class - the person do not have covid\n",
        "\n",
        "Here afalse negative in COVID-19 screening would mean incorrectly classifying an individual who is actually positive as negative. The consequences of a false negative can be severe, as it may result in a person with COVID-19 going undetected and potentially spreading the virus.High recall is crucial in this scenario to minimize the chances of false negatives. A high recall value ensures that the model is effective in capturing most of the actual positive cases."
      ],
      "metadata": {
        "id": "ilQRfd_ZknYu"
      }
    }
  ]
}