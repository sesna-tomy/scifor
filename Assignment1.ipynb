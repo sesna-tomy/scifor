{
  "nbformat": 4,
  "nbformat_minor": 0,
  "metadata": {
    "colab": {
      "provenance": [],
      "authorship_tag": "ABX9TyMttwCGG3tJ3t7REE4xLBuw",
      "include_colab_link": true
    },
    "kernelspec": {
      "name": "python3",
      "display_name": "Python 3"
    },
    "language_info": {
      "name": "python"
    }
  },
  "cells": [
    {
      "cell_type": "markdown",
      "metadata": {
        "id": "view-in-github",
        "colab_type": "text"
      },
      "source": [
        "<a href=\"https://colab.research.google.com/github/sesna-tomy/scifor/blob/main/Assignment1.ipynb\" target=\"_parent\"><img src=\"https://colab.research.google.com/assets/colab-badge.svg\" alt=\"Open In Colab\"/></a>"
      ]
    },
    {
      "cell_type": "markdown",
      "source": [
        "Q1. Create a python program to sort the given list of tuples based on integer value using a\n",
        "lambda function.\n",
        "[('Sachin Tendulkar', 34357), ('Ricky Ponting', 27483), ('Jack Kallis', 25534), ('Virat Kohli',\n",
        "24936)]"
      ],
      "metadata": {
        "id": "SZqn-X67SgLl"
      }
    },
    {
      "cell_type": "code",
      "source": [
        "#Answer\n",
        "lst = [(\"Sachin Tendulkar\",34357), (\"Ricky Ponting\",27483), (\"Jack Kallis\",25534), (\"Virat Kohil\",24936)]\n",
        "descending = sorted(lst, key=lambda a: a[1])\n",
        "ascending = sorted(lst, key=lambda a: a[1], reverse=True)\n",
        "print(ascending)\n",
        "print(descending)"
      ],
      "metadata": {
        "colab": {
          "base_uri": "https://localhost:8080/"
        },
        "id": "gZskduG7SxjS",
        "outputId": "053d8ddf-5e75-49f9-be14-62bdfef76992"
      },
      "execution_count": 1,
      "outputs": [
        {
          "output_type": "stream",
          "name": "stdout",
          "text": [
            "[('Sachin Tendulkar', 34357), ('Ricky Ponting', 27483), ('Jack Kallis', 25534), ('Virat Kohil', 24936)]\n",
            "[('Virat Kohil', 24936), ('Jack Kallis', 25534), ('Ricky Ponting', 27483), ('Sachin Tendulkar', 34357)]\n"
          ]
        }
      ]
    },
    {
      "cell_type": "markdown",
      "source": [
        "Q2. Write a Python Program to find the squares of all the numbers in the given list of integers\n",
        "using lambda and map functions.\n",
        "[1, 2, 3, 4, 5, 6, 7, 8, 9, 10]\n"
      ],
      "metadata": {
        "id": "sggdf6HnS2K9"
      }
    },
    {
      "cell_type": "code",
      "source": [
        "#Answer\n",
        "lst = [1,2,3,4,5,6,7,8,9,10]\n",
        "new_lst = list(map(lambda a: a**2 ,lst))\n",
        "print(new_lst)"
      ],
      "metadata": {
        "colab": {
          "base_uri": "https://localhost:8080/"
        },
        "id": "lCSo4pOiriOT",
        "outputId": "d8bc1f83-312e-44b6-de6b-d1a44842ea39"
      },
      "execution_count": null,
      "outputs": [
        {
          "output_type": "stream",
          "name": "stdout",
          "text": [
            "[1, 4, 9, 16, 25, 36, 49, 64, 81, 100]\n"
          ]
        }
      ]
    },
    {
      "cell_type": "markdown",
      "source": [
        "Q3. Write a python program to convert the given list of integers into a tuple of strings. Use map\n",
        "and lambda functions\n",
        "Given String: [1, 2, 3, 4, 5, 6, 7, 8, 9, 10]\n",
        "Expected output: ('1', '2', '3', '4', '5', '6', '7', '8', '9', '10')\n"
      ],
      "metadata": {
        "id": "9vKRFKqUTBU8"
      }
    },
    {
      "cell_type": "code",
      "source": [
        "#Answer\n",
        "lst =[1,2,3,4,5,6,7,8,9,10]\n",
        "tup= tuple(map(lambda a: str(a),lst))\n",
        "print(tup)"
      ],
      "metadata": {
        "colab": {
          "base_uri": "https://localhost:8080/"
        },
        "id": "bo-2BDxHsZnr",
        "outputId": "649fba80-837a-4ec2-d340-16cb14435d45"
      },
      "execution_count": null,
      "outputs": [
        {
          "output_type": "stream",
          "name": "stdout",
          "text": [
            "('1', '2', '3', '4', '5', '6', '7', '8', '9', '10')\n"
          ]
        }
      ]
    },
    {
      "cell_type": "markdown",
      "source": [
        "Q4. Write a python program using reduce function to compute the product of a list containing\n",
        "numbers from 1 to 25"
      ],
      "metadata": {
        "id": "6oq_FeyTTHe2"
      }
    },
    {
      "cell_type": "code",
      "source": [
        "#Answer\n",
        "import functools\n",
        "lst =[a for a in range(1,26)]\n",
        "prod = functools.reduce(lambda b, a: b*a,lst)\n",
        "print(\"The product is\", prod)"
      ],
      "metadata": {
        "colab": {
          "base_uri": "https://localhost:8080/"
        },
        "id": "Y2LP3cMJsxig",
        "outputId": "e0a06a54-2bed-41a5-9c13-d66ccac3e6d7"
      },
      "execution_count": null,
      "outputs": [
        {
          "output_type": "stream",
          "name": "stdout",
          "text": [
            "The product is 15511210043330985984000000\n"
          ]
        }
      ]
    },
    {
      "cell_type": "markdown",
      "source": [
        "Q5. Write a python program to filter the numbers in a given list that are divisible by 2 and 3\n",
        "[2, 3, 6, 9, 27, 60, 90, 120, 55, 46]\n"
      ],
      "metadata": {
        "id": "UOVfkY4wTM85"
      }
    },
    {
      "cell_type": "code",
      "source": [
        "#Answer\n",
        "lst = [2,3,6,9,27,60,90,120,55,46]\n",
        "new_lst = []\n",
        "for i in lst:\n",
        "  if i % 2 ==0 and i % 3 ==0:\n",
        "      new_lst.append(i)\n",
        "\n",
        "print(new_lst)"
      ],
      "metadata": {
        "colab": {
          "base_uri": "https://localhost:8080/"
        },
        "id": "mCfFtkwDwRSh",
        "outputId": "fb69f83d-6882-46a6-c972-990e875d81c4"
      },
      "execution_count": null,
      "outputs": [
        {
          "output_type": "stream",
          "name": "stdout",
          "text": [
            "[6, 60, 90, 120]\n"
          ]
        }
      ]
    },
    {
      "cell_type": "markdown",
      "source": [
        "Q6. Write a python program to find palindromes in the given list of strings using lambda and\n",
        "filter function.\n",
        "['python', 'php', 'aba', 'radar', 'level']"
      ],
      "metadata": {
        "id": "wq2vUXN2TQB0"
      }
    },
    {
      "cell_type": "code",
      "source": [
        "#Answer\n",
        "lst = ['python', 'php', 'radar', 'level']\n",
        "palindrome = list(filter(lambda a: (a == a[::-1]),lst))\n",
        "print(palindrome)\n"
      ],
      "metadata": {
        "colab": {
          "base_uri": "https://localhost:8080/"
        },
        "id": "J1ou4oy0xKg5",
        "outputId": "3deff275-309d-40e4-e5ec-16176f922384"
      },
      "execution_count": null,
      "outputs": [
        {
          "output_type": "stream",
          "name": "stdout",
          "text": [
            "['php', 'radar', 'level']\n"
          ]
        }
      ]
    }
  ]
}