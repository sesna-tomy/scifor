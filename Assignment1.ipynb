{
  "nbformat": 4,
  "nbformat_minor": 0,
  "metadata": {
    "colab": {
      "provenance": [],
      "authorship_tag": "ABX9TyNS2sGKw17iQ/cMA5S93J54",
      "include_colab_link": true
    },
    "kernelspec": {
      "name": "python3",
      "display_name": "Python 3"
    },
    "language_info": {
      "name": "python"
    }
  },
  "cells": [
    {
      "cell_type": "markdown",
      "metadata": {
        "id": "view-in-github",
        "colab_type": "text"
      },
      "source": [
        "<a href=\"https://colab.research.google.com/github/sesna-tomy/scifor/blob/main/Assignment1.ipynb\" target=\"_parent\"><img src=\"https://colab.research.google.com/assets/colab-badge.svg\" alt=\"Open In Colab\"/></a>"
      ]
    },
    {
      "cell_type": "code",
      "execution_count": null,
      "metadata": {
        "colab": {
          "base_uri": "https://localhost:8080/"
        },
        "id": "aJ2QM1j_pznY",
        "outputId": "63b5b736-4eb5-413c-ecfb-cb85e4d0cbb5"
      },
      "outputs": [
        {
          "output_type": "stream",
          "name": "stdout",
          "text": [
            "[('Sachin Tendulkar', 34357), ('Ricky Ponting', 27483), ('Jack Kallis', 25534), ('Virat Kohil', 24936)]\n",
            "[('Virat Kohil', 24936), ('Jack Kallis', 25534), ('Ricky Ponting', 27483), ('Sachin Tendulkar', 34357)]\n"
          ]
        }
      ],
      "source": [
        "#1\n",
        "lst = [(\"Sachin Tendulkar\",34357), (\"Ricky Ponting\",27483), (\"Jack Kallis\",25534), (\"Virat Kohil\",24936)]\n",
        "descending = sorted(lst, key=lambda a: a[1])\n",
        "ascending = sorted(lst, key=lambda a: a[1], reverse=True)\n",
        "print(ascending)\n",
        "print(descending)"
      ]
    },
    {
      "cell_type": "code",
      "source": [
        "#2\n",
        "lst = [1,2,3,4,5,6,7,8,9,10]\n",
        "new_lst = list(map(lambda a: a**2 ,lst))\n",
        "print(new_lst)"
      ],
      "metadata": {
        "colab": {
          "base_uri": "https://localhost:8080/"
        },
        "id": "lCSo4pOiriOT",
        "outputId": "d8bc1f83-312e-44b6-de6b-d1a44842ea39"
      },
      "execution_count": null,
      "outputs": [
        {
          "output_type": "stream",
          "name": "stdout",
          "text": [
            "[1, 4, 9, 16, 25, 36, 49, 64, 81, 100]\n"
          ]
        }
      ]
    },
    {
      "cell_type": "code",
      "source": [
        "#3\n",
        "lst =[1,2,3,4,5,6,7,8,9,10]\n",
        "tup= tuple(map(lambda a: str(a),lst))\n",
        "print(tup)"
      ],
      "metadata": {
        "colab": {
          "base_uri": "https://localhost:8080/"
        },
        "id": "bo-2BDxHsZnr",
        "outputId": "649fba80-837a-4ec2-d340-16cb14435d45"
      },
      "execution_count": null,
      "outputs": [
        {
          "output_type": "stream",
          "name": "stdout",
          "text": [
            "('1', '2', '3', '4', '5', '6', '7', '8', '9', '10')\n"
          ]
        }
      ]
    },
    {
      "cell_type": "code",
      "source": [
        "#4\n",
        "import functools\n",
        "lst =[a for a in range(1,26)]\n",
        "prod = functools.reduce(lambda b, a: b*a,lst)\n",
        "print(\"The product is\", prod)"
      ],
      "metadata": {
        "colab": {
          "base_uri": "https://localhost:8080/"
        },
        "id": "Y2LP3cMJsxig",
        "outputId": "e0a06a54-2bed-41a5-9c13-d66ccac3e6d7"
      },
      "execution_count": null,
      "outputs": [
        {
          "output_type": "stream",
          "name": "stdout",
          "text": [
            "The product is 15511210043330985984000000\n"
          ]
        }
      ]
    },
    {
      "cell_type": "code",
      "source": [
        "#5\n",
        "lst = [2,3,6,9,27,60,90,120,55,46]\n",
        "new_lst = []\n",
        "for i in lst:\n",
        "  if i % 2 ==0 and i % 3 ==0:\n",
        "      new_lst.append(i)\n",
        "\n",
        "print(new_lst)"
      ],
      "metadata": {
        "colab": {
          "base_uri": "https://localhost:8080/"
        },
        "id": "mCfFtkwDwRSh",
        "outputId": "fb69f83d-6882-46a6-c972-990e875d81c4"
      },
      "execution_count": null,
      "outputs": [
        {
          "output_type": "stream",
          "name": "stdout",
          "text": [
            "[6, 60, 90, 120]\n"
          ]
        }
      ]
    },
    {
      "cell_type": "code",
      "source": [
        "#6\n",
        "lst = ['python', 'php', 'radar', 'level']\n",
        "palindrome = list(filter(lambda a: (a == a[::-1]),lst))\n",
        "print(palindrome)\n"
      ],
      "metadata": {
        "colab": {
          "base_uri": "https://localhost:8080/"
        },
        "id": "J1ou4oy0xKg5",
        "outputId": "3deff275-309d-40e4-e5ec-16176f922384"
      },
      "execution_count": null,
      "outputs": [
        {
          "output_type": "stream",
          "name": "stdout",
          "text": [
            "['php', 'radar', 'level']\n"
          ]
        }
      ]
    }
  ]
}