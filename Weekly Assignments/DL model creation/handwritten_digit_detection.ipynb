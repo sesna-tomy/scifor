{
 "cells": [
  {
   "cell_type": "code",
   "execution_count": 1,
   "metadata": {},
   "outputs": [
    {
     "name": "stderr",
     "output_type": "stream",
     "text": [
      "2024-02-06 15:49:10.840775: I tensorflow/core/util/port.cc:110] oneDNN custom operations are on. You may see slightly different numerical results due to floating-point round-off errors from different computation orders. To turn them off, set the environment variable `TF_ENABLE_ONEDNN_OPTS=0`.\n",
      "2024-02-06 15:49:10.842541: I tensorflow/tsl/cuda/cudart_stub.cc:28] Could not find cuda drivers on your machine, GPU will not be used.\n",
      "2024-02-06 15:49:10.877752: I tensorflow/tsl/cuda/cudart_stub.cc:28] Could not find cuda drivers on your machine, GPU will not be used.\n",
      "2024-02-06 15:49:10.878422: I tensorflow/core/platform/cpu_feature_guard.cc:182] This TensorFlow binary is optimized to use available CPU instructions in performance-critical operations.\n",
      "To enable the following instructions: AVX2 AVX512F AVX512_VNNI FMA, in other operations, rebuild TensorFlow with the appropriate compiler flags.\n",
      "2024-02-06 15:49:11.698646: W tensorflow/compiler/tf2tensorrt/utils/py_utils.cc:38] TF-TRT Warning: Could not find TensorRT\n"
     ]
    }
   ],
   "source": [
    "import cv2 \n",
    "import numpy as np\n",
    "import matplotlib.pyplot as plt\n",
    "import tensorflow as tf"
   ]
  },
  {
   "cell_type": "code",
   "execution_count": 2,
   "metadata": {},
   "outputs": [],
   "source": [
    "mnist = tf.keras.datasets.mnist"
   ]
  },
  {
   "cell_type": "code",
   "execution_count": 3,
   "metadata": {},
   "outputs": [],
   "source": [
    "(x_train,y_train), (x_test,y_test) = mnist.load_data()"
   ]
  },
  {
   "cell_type": "code",
   "execution_count": 4,
   "metadata": {},
   "outputs": [],
   "source": [
    "x_train = tf.keras.utils.normalize(x_train,axis = 1)\n",
    "x_test = tf.keras.utils.normalize(x_test, axis = 1)"
   ]
  },
  {
   "cell_type": "code",
   "execution_count": 14,
   "metadata": {},
   "outputs": [
    {
     "name": "stdout",
     "output_type": "stream",
     "text": [
      "Epoch 1/5\n",
      "1875/1875 [==============================] - 5s 2ms/step - loss: 0.4368 - accuracy: 0.8631\n",
      "Epoch 2/5\n",
      "1875/1875 [==============================] - 5s 2ms/step - loss: 0.1859 - accuracy: 0.9407\n",
      "Epoch 3/5\n",
      "1875/1875 [==============================] - 5s 2ms/step - loss: 0.1442 - accuracy: 0.9538\n",
      "Epoch 4/5\n",
      "1875/1875 [==============================] - 5s 2ms/step - loss: 0.1209 - accuracy: 0.9609\n",
      "Epoch 5/5\n",
      "1875/1875 [==============================] - 5s 2ms/step - loss: 0.1087 - accuracy: 0.9645\n",
      "INFO:tensorflow:Assets written to: hand.model/assets\n"
     ]
    },
    {
     "name": "stderr",
     "output_type": "stream",
     "text": [
      "INFO:tensorflow:Assets written to: hand.model/assets\n"
     ]
    }
   ],
   "source": [
    "model = tf.keras.models.Sequential() \n",
    "model.add(tf.keras.layers.Conv2D(16, (5, 5), activation='relu', input_shape=(28, 28, 1)))\n",
    "model.add(tf.keras.layers.MaxPooling2D(pool_size=(2, 2), strides=(2, 2)))\n",
    "    \n",
    "model.add(tf.keras.layers.Conv2D(8, (2, 2), activation='relu'))\n",
    "model.add(tf.keras.layers.MaxPooling2D(pool_size=(2, 2), strides=(2, 2)))\n",
    "\n",
    "model.add(tf.keras.layers.Conv2D(4, (2, 2), activation='relu'))\n",
    "model.add(tf.keras.layers.MaxPooling2D(pool_size=(2, 2), strides=(2, 2)))\n",
    "    \n",
    "model.add(tf.keras.layers.Flatten(input_shape =(28,28)))   # flattens the image  after converting it a 28 by 28 pixel image # adding layers \n",
    "model.add(tf.keras.layers.Dense(128,activation = 'relu'))\n",
    "model.add(tf.keras.layers.Dense(128,activation = 'relu'))  # refers to the Rectified Linear Unit activation function\n",
    "model.add(tf.keras.layers.Dense(10,activation= 'softmax'))\n",
    "\n",
    "\n",
    "model.compile(optimizer='adam',loss='sparse_categorical_crossentropy',metrics=['accuracy'])\n",
    "model.fit(x_train,y_train, epochs=5)\n",
    "model.save('hand.model')\n"
   ]
  },
  {
   "cell_type": "code",
   "execution_count": 15,
   "metadata": {},
   "outputs": [
    {
     "name": "stdout",
     "output_type": "stream",
     "text": [
      "313/313 [==============================] - 1s 1ms/step - loss: 0.1059 - accuracy: 0.9666\n",
      "Loss is 0.105918750166893\n",
      "Accuracy is 0.9666000008583069\n"
     ]
    }
   ],
   "source": [
    "loss,accuracy = model.evaluate(x_test,y_test)\n",
    "print(\"Loss is\", loss)\n",
    "print(\"Accuracy is\", accuracy)"
   ]
  },
  {
   "cell_type": "code",
   "execution_count": 16,
   "metadata": {},
   "outputs": [
    {
     "name": "stdout",
     "output_type": "stream",
     "text": [
      "1/1 [==============================] - 0s 51ms/step\n",
      "5 img6.jpg\n",
      "1/1 [==============================] - 0s 13ms/step\n",
      "7 img7.jpg\n",
      "1/1 [==============================] - 0s 13ms/step\n",
      "4 img4.jpg\n",
      "1/1 [==============================] - 0s 14ms/step\n",
      "3 img3.jpg\n",
      "1/1 [==============================] - 0s 12ms/step\n",
      "4 img8.jpg\n",
      "1/1 [==============================] - 0s 12ms/step\n",
      "2 img2.jpg\n",
      "1/1 [==============================] - 0s 14ms/step\n",
      "4 img9.jpg\n",
      "1/1 [==============================] - 0s 13ms/step\n",
      "0 img0.jpg\n",
      "1/1 [==============================] - 0s 13ms/step\n",
      "1 img1.jpg\n"
     ]
    }
   ],
   "source": [
    "import os\n",
    "from os import listdir\n",
    " \n",
    "# get the path/directory\n",
    "folder_dir = \"/home/sesna/sesna/DL_proj/project/hand.model/num\"\n",
    "for images in os.listdir(folder_dir):\n",
    " \n",
    "    # check if the image ends with png\n",
    "    if images.endswith(\".jpg\"):\n",
    "        image_path = os.path.join(folder_dir, images)\n",
    "        ja = cv2.imread(image_path, cv2.IMREAD_GRAYSCALE)\n",
    "        ja = np.invert(np.array([ja]))\n",
    "\n",
    "    prediction = model.predict(ja)\n",
    "    print(np.argmax(prediction),images)\n",
    "\n",
    "    "
   ]
  }
 ],
 "metadata": {
  "kernelspec": {
   "display_name": "Python 3",
   "language": "python",
   "name": "python3"
  },
  "language_info": {
   "codemirror_mode": {
    "name": "ipython",
    "version": 3
   },
   "file_extension": ".py",
   "mimetype": "text/x-python",
   "name": "python",
   "nbconvert_exporter": "python",
   "pygments_lexer": "ipython3",
   "version": "3.8.10"
  },
  "orig_nbformat": 4
 },
 "nbformat": 4,
 "nbformat_minor": 2
}
