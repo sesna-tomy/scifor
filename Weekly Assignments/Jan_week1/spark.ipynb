{
 "cells": [
  {
   "cell_type": "code",
   "execution_count": 0,
   "metadata": {
    "application/vnd.databricks.v1+cell": {
     "cellMetadata": {
      "byteLimit": 2048000,
      "rowLimit": 10000
     },
     "inputWidgets": {},
     "nuid": "e07d8a11-1fd3-4739-a2b9-ef7f420ac1ad",
     "showTitle": false,
     "title": ""
    }
   },
   "outputs": [
    {
     "output_type": "display_data",
     "data": {
      "text/html": [
       "<style scoped>\n",
       "  .table-result-container {\n",
       "    max-height: 300px;\n",
       "    overflow: auto;\n",
       "  }\n",
       "  table, th, td {\n",
       "    border: 1px solid black;\n",
       "    border-collapse: collapse;\n",
       "  }\n",
       "  th, td {\n",
       "    padding: 5px;\n",
       "  }\n",
       "  th {\n",
       "    text-align: left;\n",
       "  }\n",
       "</style><div class='table-result-container'><table class='table-result'><thead style='background-color: white'><tr><th>Id</th><th>SepalLengthCm</th><th>SepalWidthCm</th><th>PetalLengthCm</th><th>PetalWidthCm</th><th>Species</th></tr></thead><tbody><tr><td>1</td><td>5.1</td><td>3.5</td><td>1.4</td><td>0.2</td><td>Iris-setosa</td></tr><tr><td>2</td><td>4.9</td><td>3</td><td>1.4</td><td>0.2</td><td>Iris-setosa</td></tr><tr><td>3</td><td>4.7</td><td>3.2</td><td>1.3</td><td>0.2</td><td>Iris-setosa</td></tr><tr><td>4</td><td>4.6</td><td>3.1</td><td>1.5</td><td>0.2</td><td>Iris-setosa</td></tr><tr><td>5</td><td>5</td><td>3.6</td><td>1.4</td><td>0.2</td><td>Iris-setosa</td></tr><tr><td>6</td><td>5.4</td><td>3.9</td><td>1.7</td><td>0.4</td><td>Iris-setosa</td></tr><tr><td>7</td><td>4.6</td><td>3.4</td><td>1.4</td><td>0.3</td><td>Iris-setosa</td></tr><tr><td>8</td><td>5</td><td>3.4</td><td>1.5</td><td>0.2</td><td>Iris-setosa</td></tr><tr><td>9</td><td>4.4</td><td>2.9</td><td>1.4</td><td>0.2</td><td>Iris-setosa</td></tr><tr><td>10</td><td>4.9</td><td>3.1</td><td>1.5</td><td>0.1</td><td>Iris-setosa</td></tr><tr><td>11</td><td>5.4</td><td>3.7</td><td>1.5</td><td>0.2</td><td>Iris-setosa</td></tr><tr><td>12</td><td>4.8</td><td>3.4</td><td>1.6</td><td>0.2</td><td>Iris-setosa</td></tr><tr><td>13</td><td>4.8</td><td>3</td><td>1.4</td><td>0.1</td><td>Iris-setosa</td></tr><tr><td>14</td><td>4.3</td><td>3</td><td>1.1</td><td>0.1</td><td>Iris-setosa</td></tr><tr><td>15</td><td>5.8</td><td>4</td><td>1.2</td><td>0.2</td><td>Iris-setosa</td></tr><tr><td>16</td><td>5.7</td><td>4.4</td><td>1.5</td><td>0.4</td><td>Iris-setosa</td></tr><tr><td>17</td><td>5.4</td><td>3.9</td><td>1.3</td><td>0.4</td><td>Iris-setosa</td></tr><tr><td>18</td><td>5.1</td><td>3.5</td><td>1.4</td><td>0.3</td><td>Iris-setosa</td></tr><tr><td>19</td><td>5.7</td><td>3.8</td><td>1.7</td><td>0.3</td><td>Iris-setosa</td></tr><tr><td>20</td><td>5.1</td><td>3.8</td><td>1.5</td><td>0.3</td><td>Iris-setosa</td></tr><tr><td>21</td><td>5.4</td><td>3.4</td><td>1.7</td><td>0.2</td><td>Iris-setosa</td></tr><tr><td>22</td><td>5.1</td><td>3.7</td><td>1.5</td><td>0.4</td><td>Iris-setosa</td></tr><tr><td>23</td><td>4.6</td><td>3.6</td><td>1</td><td>0.2</td><td>Iris-setosa</td></tr><tr><td>24</td><td>5.1</td><td>3.3</td><td>1.7</td><td>0.5</td><td>Iris-setosa</td></tr><tr><td>25</td><td>4.8</td><td>3.4</td><td>1.9</td><td>0.2</td><td>Iris-setosa</td></tr><tr><td>26</td><td>5</td><td>3</td><td>1.6</td><td>0.2</td><td>Iris-setosa</td></tr><tr><td>27</td><td>5</td><td>3.4</td><td>1.6</td><td>0.4</td><td>Iris-setosa</td></tr><tr><td>28</td><td>5.2</td><td>3.5</td><td>1.5</td><td>0.2</td><td>Iris-setosa</td></tr><tr><td>29</td><td>5.2</td><td>3.4</td><td>1.4</td><td>0.2</td><td>Iris-setosa</td></tr><tr><td>30</td><td>4.7</td><td>3.2</td><td>1.6</td><td>0.2</td><td>Iris-setosa</td></tr><tr><td>31</td><td>4.8</td><td>3.1</td><td>1.6</td><td>0.2</td><td>Iris-setosa</td></tr><tr><td>32</td><td>5.4</td><td>3.4</td><td>1.5</td><td>0.4</td><td>Iris-setosa</td></tr><tr><td>33</td><td>5.2</td><td>4.1</td><td>1.5</td><td>0.1</td><td>Iris-setosa</td></tr><tr><td>34</td><td>5.5</td><td>4.2</td><td>1.4</td><td>0.2</td><td>Iris-setosa</td></tr><tr><td>35</td><td>4.9</td><td>3.1</td><td>1.5</td><td>0.1</td><td>Iris-setosa</td></tr><tr><td>36</td><td>5</td><td>3.2</td><td>1.2</td><td>0.2</td><td>Iris-setosa</td></tr><tr><td>37</td><td>5.5</td><td>3.5</td><td>1.3</td><td>0.2</td><td>Iris-setosa</td></tr><tr><td>38</td><td>4.9</td><td>3.1</td><td>1.5</td><td>0.1</td><td>Iris-setosa</td></tr><tr><td>39</td><td>4.4</td><td>3</td><td>1.3</td><td>0.2</td><td>Iris-setosa</td></tr><tr><td>40</td><td>5.1</td><td>3.4</td><td>1.5</td><td>0.2</td><td>Iris-setosa</td></tr><tr><td>41</td><td>5</td><td>3.5</td><td>1.3</td><td>0.3</td><td>Iris-setosa</td></tr><tr><td>42</td><td>4.5</td><td>2.3</td><td>1.3</td><td>0.3</td><td>Iris-setosa</td></tr><tr><td>43</td><td>4.4</td><td>3.2</td><td>1.3</td><td>0.2</td><td>Iris-setosa</td></tr><tr><td>44</td><td>5</td><td>3.5</td><td>1.6</td><td>0.6</td><td>Iris-setosa</td></tr><tr><td>45</td><td>5.1</td><td>3.8</td><td>1.9</td><td>0.4</td><td>Iris-setosa</td></tr><tr><td>46</td><td>4.8</td><td>3</td><td>1.4</td><td>0.3</td><td>Iris-setosa</td></tr><tr><td>47</td><td>5.1</td><td>3.8</td><td>1.6</td><td>0.2</td><td>Iris-setosa</td></tr><tr><td>48</td><td>4.6</td><td>3.2</td><td>1.4</td><td>0.2</td><td>Iris-setosa</td></tr><tr><td>49</td><td>5.3</td><td>3.7</td><td>1.5</td><td>0.2</td><td>Iris-setosa</td></tr><tr><td>50</td><td>5</td><td>3.3</td><td>1.4</td><td>0.2</td><td>Iris-setosa</td></tr><tr><td>51</td><td>7</td><td>3.2</td><td>4.7</td><td>1.4</td><td>Iris-versicolor</td></tr><tr><td>52</td><td>6.4</td><td>3.2</td><td>4.5</td><td>1.5</td><td>Iris-versicolor</td></tr><tr><td>53</td><td>6.9</td><td>3.1</td><td>4.9</td><td>1.5</td><td>Iris-versicolor</td></tr><tr><td>54</td><td>5.5</td><td>2.3</td><td>4</td><td>1.3</td><td>Iris-versicolor</td></tr><tr><td>55</td><td>6.5</td><td>2.8</td><td>4.6</td><td>1.5</td><td>Iris-versicolor</td></tr><tr><td>56</td><td>5.7</td><td>2.8</td><td>4.5</td><td>1.3</td><td>Iris-versicolor</td></tr><tr><td>57</td><td>6.3</td><td>3.3</td><td>4.7</td><td>1.6</td><td>Iris-versicolor</td></tr><tr><td>58</td><td>4.9</td><td>2.4</td><td>3.3</td><td>1</td><td>Iris-versicolor</td></tr><tr><td>59</td><td>6.6</td><td>2.9</td><td>4.6</td><td>1.3</td><td>Iris-versicolor</td></tr><tr><td>60</td><td>5.2</td><td>2.7</td><td>3.9</td><td>1.4</td><td>Iris-versicolor</td></tr><tr><td>61</td><td>5</td><td>2</td><td>3.5</td><td>1</td><td>Iris-versicolor</td></tr><tr><td>62</td><td>5.9</td><td>3</td><td>4.2</td><td>1.5</td><td>Iris-versicolor</td></tr><tr><td>63</td><td>6</td><td>2.2</td><td>4</td><td>1</td><td>Iris-versicolor</td></tr><tr><td>64</td><td>6.1</td><td>2.9</td><td>4.7</td><td>1.4</td><td>Iris-versicolor</td></tr><tr><td>65</td><td>5.6</td><td>2.9</td><td>3.6</td><td>1.3</td><td>Iris-versicolor</td></tr><tr><td>66</td><td>6.7</td><td>3.1</td><td>4.4</td><td>1.4</td><td>Iris-versicolor</td></tr><tr><td>67</td><td>5.6</td><td>3</td><td>4.5</td><td>1.5</td><td>Iris-versicolor</td></tr><tr><td>68</td><td>5.8</td><td>2.7</td><td>4.1</td><td>1</td><td>Iris-versicolor</td></tr><tr><td>69</td><td>6.2</td><td>2.2</td><td>4.5</td><td>1.5</td><td>Iris-versicolor</td></tr><tr><td>70</td><td>5.6</td><td>2.5</td><td>3.9</td><td>1.1</td><td>Iris-versicolor</td></tr><tr><td>71</td><td>5.9</td><td>3.2</td><td>4.8</td><td>1.8</td><td>Iris-versicolor</td></tr><tr><td>72</td><td>6.1</td><td>2.8</td><td>4</td><td>1.3</td><td>Iris-versicolor</td></tr><tr><td>73</td><td>6.3</td><td>2.5</td><td>4.9</td><td>1.5</td><td>Iris-versicolor</td></tr><tr><td>74</td><td>6.1</td><td>2.8</td><td>4.7</td><td>1.2</td><td>Iris-versicolor</td></tr><tr><td>75</td><td>6.4</td><td>2.9</td><td>4.3</td><td>1.3</td><td>Iris-versicolor</td></tr><tr><td>76</td><td>6.6</td><td>3</td><td>4.4</td><td>1.4</td><td>Iris-versicolor</td></tr><tr><td>77</td><td>6.8</td><td>2.8</td><td>4.8</td><td>1.4</td><td>Iris-versicolor</td></tr><tr><td>78</td><td>6.7</td><td>3</td><td>5</td><td>1.7</td><td>Iris-versicolor</td></tr><tr><td>79</td><td>6</td><td>2.9</td><td>4.5</td><td>1.5</td><td>Iris-versicolor</td></tr><tr><td>80</td><td>5.7</td><td>2.6</td><td>3.5</td><td>1</td><td>Iris-versicolor</td></tr><tr><td>81</td><td>5.5</td><td>2.4</td><td>3.8</td><td>1.1</td><td>Iris-versicolor</td></tr><tr><td>82</td><td>5.5</td><td>2.4</td><td>3.7</td><td>1</td><td>Iris-versicolor</td></tr><tr><td>83</td><td>5.8</td><td>2.7</td><td>3.9</td><td>1.2</td><td>Iris-versicolor</td></tr><tr><td>84</td><td>6</td><td>2.7</td><td>5.1</td><td>1.6</td><td>Iris-versicolor</td></tr><tr><td>85</td><td>5.4</td><td>3</td><td>4.5</td><td>1.5</td><td>Iris-versicolor</td></tr><tr><td>86</td><td>6</td><td>3.4</td><td>4.5</td><td>1.6</td><td>Iris-versicolor</td></tr><tr><td>87</td><td>6.7</td><td>3.1</td><td>4.7</td><td>1.5</td><td>Iris-versicolor</td></tr><tr><td>88</td><td>6.3</td><td>2.3</td><td>4.4</td><td>1.3</td><td>Iris-versicolor</td></tr><tr><td>89</td><td>5.6</td><td>3</td><td>4.1</td><td>1.3</td><td>Iris-versicolor</td></tr><tr><td>90</td><td>5.5</td><td>2.5</td><td>4</td><td>1.3</td><td>Iris-versicolor</td></tr><tr><td>91</td><td>5.5</td><td>2.6</td><td>4.4</td><td>1.2</td><td>Iris-versicolor</td></tr><tr><td>92</td><td>6.1</td><td>3</td><td>4.6</td><td>1.4</td><td>Iris-versicolor</td></tr><tr><td>93</td><td>5.8</td><td>2.6</td><td>4</td><td>1.2</td><td>Iris-versicolor</td></tr><tr><td>94</td><td>5</td><td>2.3</td><td>3.3</td><td>1</td><td>Iris-versicolor</td></tr><tr><td>95</td><td>5.6</td><td>2.7</td><td>4.2</td><td>1.3</td><td>Iris-versicolor</td></tr><tr><td>96</td><td>5.7</td><td>3</td><td>4.2</td><td>1.2</td><td>Iris-versicolor</td></tr><tr><td>97</td><td>5.7</td><td>2.9</td><td>4.2</td><td>1.3</td><td>Iris-versicolor</td></tr><tr><td>98</td><td>6.2</td><td>2.9</td><td>4.3</td><td>1.3</td><td>Iris-versicolor</td></tr><tr><td>99</td><td>5.1</td><td>2.5</td><td>3</td><td>1.1</td><td>Iris-versicolor</td></tr><tr><td>100</td><td>5.7</td><td>2.8</td><td>4.1</td><td>1.3</td><td>Iris-versicolor</td></tr><tr><td>101</td><td>6.3</td><td>3.3</td><td>6</td><td>2.5</td><td>Iris-virginica</td></tr><tr><td>102</td><td>5.8</td><td>2.7</td><td>5.1</td><td>1.9</td><td>Iris-virginica</td></tr><tr><td>103</td><td>7.1</td><td>3</td><td>5.9</td><td>2.1</td><td>Iris-virginica</td></tr><tr><td>104</td><td>6.3</td><td>2.9</td><td>5.6</td><td>1.8</td><td>Iris-virginica</td></tr><tr><td>105</td><td>6.5</td><td>3</td><td>5.8</td><td>2.2</td><td>Iris-virginica</td></tr><tr><td>106</td><td>7.6</td><td>3</td><td>6.6</td><td>2.1</td><td>Iris-virginica</td></tr><tr><td>107</td><td>4.9</td><td>2.5</td><td>4.5</td><td>1.7</td><td>Iris-virginica</td></tr><tr><td>108</td><td>7.3</td><td>2.9</td><td>6.3</td><td>1.8</td><td>Iris-virginica</td></tr><tr><td>109</td><td>6.7</td><td>2.5</td><td>5.8</td><td>1.8</td><td>Iris-virginica</td></tr><tr><td>110</td><td>7.2</td><td>3.6</td><td>6.1</td><td>2.5</td><td>Iris-virginica</td></tr><tr><td>111</td><td>6.5</td><td>3.2</td><td>5.1</td><td>2</td><td>Iris-virginica</td></tr><tr><td>112</td><td>6.4</td><td>2.7</td><td>5.3</td><td>1.9</td><td>Iris-virginica</td></tr><tr><td>113</td><td>6.8</td><td>3</td><td>5.5</td><td>2.1</td><td>Iris-virginica</td></tr><tr><td>114</td><td>5.7</td><td>2.5</td><td>5</td><td>2</td><td>Iris-virginica</td></tr><tr><td>115</td><td>5.8</td><td>2.8</td><td>5.1</td><td>2.4</td><td>Iris-virginica</td></tr><tr><td>116</td><td>6.4</td><td>3.2</td><td>5.3</td><td>2.3</td><td>Iris-virginica</td></tr><tr><td>117</td><td>6.5</td><td>3</td><td>5.5</td><td>1.8</td><td>Iris-virginica</td></tr><tr><td>118</td><td>7.7</td><td>3.8</td><td>6.7</td><td>2.2</td><td>Iris-virginica</td></tr><tr><td>119</td><td>7.7</td><td>2.6</td><td>6.9</td><td>2.3</td><td>Iris-virginica</td></tr><tr><td>120</td><td>6</td><td>2.2</td><td>5</td><td>1.5</td><td>Iris-virginica</td></tr><tr><td>121</td><td>6.9</td><td>3.2</td><td>5.7</td><td>2.3</td><td>Iris-virginica</td></tr><tr><td>122</td><td>5.6</td><td>2.8</td><td>4.9</td><td>2</td><td>Iris-virginica</td></tr><tr><td>123</td><td>7.7</td><td>2.8</td><td>6.7</td><td>2</td><td>Iris-virginica</td></tr><tr><td>124</td><td>6.3</td><td>2.7</td><td>4.9</td><td>1.8</td><td>Iris-virginica</td></tr><tr><td>125</td><td>6.7</td><td>3.3</td><td>5.7</td><td>2.1</td><td>Iris-virginica</td></tr><tr><td>126</td><td>7.2</td><td>3.2</td><td>6</td><td>1.8</td><td>Iris-virginica</td></tr><tr><td>127</td><td>6.2</td><td>2.8</td><td>4.8</td><td>1.8</td><td>Iris-virginica</td></tr><tr><td>128</td><td>6.1</td><td>3</td><td>4.9</td><td>1.8</td><td>Iris-virginica</td></tr><tr><td>129</td><td>6.4</td><td>2.8</td><td>5.6</td><td>2.1</td><td>Iris-virginica</td></tr><tr><td>130</td><td>7.2</td><td>3</td><td>5.8</td><td>1.6</td><td>Iris-virginica</td></tr><tr><td>131</td><td>7.4</td><td>2.8</td><td>6.1</td><td>1.9</td><td>Iris-virginica</td></tr><tr><td>132</td><td>7.9</td><td>3.8</td><td>6.4</td><td>2</td><td>Iris-virginica</td></tr><tr><td>133</td><td>6.4</td><td>2.8</td><td>5.6</td><td>2.2</td><td>Iris-virginica</td></tr><tr><td>134</td><td>6.3</td><td>2.8</td><td>5.1</td><td>1.5</td><td>Iris-virginica</td></tr><tr><td>135</td><td>6.1</td><td>2.6</td><td>5.6</td><td>1.4</td><td>Iris-virginica</td></tr><tr><td>136</td><td>7.7</td><td>3</td><td>6.1</td><td>2.3</td><td>Iris-virginica</td></tr><tr><td>137</td><td>6.3</td><td>3.4</td><td>5.6</td><td>2.4</td><td>Iris-virginica</td></tr><tr><td>138</td><td>6.4</td><td>3.1</td><td>5.5</td><td>1.8</td><td>Iris-virginica</td></tr><tr><td>139</td><td>6</td><td>3</td><td>4.8</td><td>1.8</td><td>Iris-virginica</td></tr><tr><td>140</td><td>6.9</td><td>3.1</td><td>5.4</td><td>2.1</td><td>Iris-virginica</td></tr><tr><td>141</td><td>6.7</td><td>3.1</td><td>5.6</td><td>2.4</td><td>Iris-virginica</td></tr><tr><td>142</td><td>6.9</td><td>3.1</td><td>5.1</td><td>2.3</td><td>Iris-virginica</td></tr><tr><td>143</td><td>5.8</td><td>2.7</td><td>5.1</td><td>1.9</td><td>Iris-virginica</td></tr><tr><td>144</td><td>6.8</td><td>3.2</td><td>5.9</td><td>2.3</td><td>Iris-virginica</td></tr><tr><td>145</td><td>6.7</td><td>3.3</td><td>5.7</td><td>2.5</td><td>Iris-virginica</td></tr><tr><td>146</td><td>6.7</td><td>3</td><td>5.2</td><td>2.3</td><td>Iris-virginica</td></tr><tr><td>147</td><td>6.3</td><td>2.5</td><td>5</td><td>1.9</td><td>Iris-virginica</td></tr><tr><td>148</td><td>6.5</td><td>3</td><td>5.2</td><td>2</td><td>Iris-virginica</td></tr><tr><td>149</td><td>6.2</td><td>3.4</td><td>5.4</td><td>2.3</td><td>Iris-virginica</td></tr><tr><td>150</td><td>5.9</td><td>3</td><td>5.1</td><td>1.8</td><td>Iris-virginica</td></tr></tbody></table></div>"
      ]
     },
     "metadata": {
      "application/vnd.databricks.v1+output": {
       "addedWidgets": {},
       "aggData": [],
       "aggError": "",
       "aggOverflow": false,
       "aggSchema": [],
       "aggSeriesLimitReached": false,
       "aggType": "",
       "arguments": {},
       "columnCustomDisplayInfos": {},
       "data": [
        [
         "1",
         "5.1",
         "3.5",
         "1.4",
         "0.2",
         "Iris-setosa"
        ],
        [
         "2",
         "4.9",
         "3",
         "1.4",
         "0.2",
         "Iris-setosa"
        ],
        [
         "3",
         "4.7",
         "3.2",
         "1.3",
         "0.2",
         "Iris-setosa"
        ],
        [
         "4",
         "4.6",
         "3.1",
         "1.5",
         "0.2",
         "Iris-setosa"
        ],
        [
         "5",
         "5",
         "3.6",
         "1.4",
         "0.2",
         "Iris-setosa"
        ],
        [
         "6",
         "5.4",
         "3.9",
         "1.7",
         "0.4",
         "Iris-setosa"
        ],
        [
         "7",
         "4.6",
         "3.4",
         "1.4",
         "0.3",
         "Iris-setosa"
        ],
        [
         "8",
         "5",
         "3.4",
         "1.5",
         "0.2",
         "Iris-setosa"
        ],
        [
         "9",
         "4.4",
         "2.9",
         "1.4",
         "0.2",
         "Iris-setosa"
        ],
        [
         "10",
         "4.9",
         "3.1",
         "1.5",
         "0.1",
         "Iris-setosa"
        ],
        [
         "11",
         "5.4",
         "3.7",
         "1.5",
         "0.2",
         "Iris-setosa"
        ],
        [
         "12",
         "4.8",
         "3.4",
         "1.6",
         "0.2",
         "Iris-setosa"
        ],
        [
         "13",
         "4.8",
         "3",
         "1.4",
         "0.1",
         "Iris-setosa"
        ],
        [
         "14",
         "4.3",
         "3",
         "1.1",
         "0.1",
         "Iris-setosa"
        ],
        [
         "15",
         "5.8",
         "4",
         "1.2",
         "0.2",
         "Iris-setosa"
        ],
        [
         "16",
         "5.7",
         "4.4",
         "1.5",
         "0.4",
         "Iris-setosa"
        ],
        [
         "17",
         "5.4",
         "3.9",
         "1.3",
         "0.4",
         "Iris-setosa"
        ],
        [
         "18",
         "5.1",
         "3.5",
         "1.4",
         "0.3",
         "Iris-setosa"
        ],
        [
         "19",
         "5.7",
         "3.8",
         "1.7",
         "0.3",
         "Iris-setosa"
        ],
        [
         "20",
         "5.1",
         "3.8",
         "1.5",
         "0.3",
         "Iris-setosa"
        ],
        [
         "21",
         "5.4",
         "3.4",
         "1.7",
         "0.2",
         "Iris-setosa"
        ],
        [
         "22",
         "5.1",
         "3.7",
         "1.5",
         "0.4",
         "Iris-setosa"
        ],
        [
         "23",
         "4.6",
         "3.6",
         "1",
         "0.2",
         "Iris-setosa"
        ],
        [
         "24",
         "5.1",
         "3.3",
         "1.7",
         "0.5",
         "Iris-setosa"
        ],
        [
         "25",
         "4.8",
         "3.4",
         "1.9",
         "0.2",
         "Iris-setosa"
        ],
        [
         "26",
         "5",
         "3",
         "1.6",
         "0.2",
         "Iris-setosa"
        ],
        [
         "27",
         "5",
         "3.4",
         "1.6",
         "0.4",
         "Iris-setosa"
        ],
        [
         "28",
         "5.2",
         "3.5",
         "1.5",
         "0.2",
         "Iris-setosa"
        ],
        [
         "29",
         "5.2",
         "3.4",
         "1.4",
         "0.2",
         "Iris-setosa"
        ],
        [
         "30",
         "4.7",
         "3.2",
         "1.6",
         "0.2",
         "Iris-setosa"
        ],
        [
         "31",
         "4.8",
         "3.1",
         "1.6",
         "0.2",
         "Iris-setosa"
        ],
        [
         "32",
         "5.4",
         "3.4",
         "1.5",
         "0.4",
         "Iris-setosa"
        ],
        [
         "33",
         "5.2",
         "4.1",
         "1.5",
         "0.1",
         "Iris-setosa"
        ],
        [
         "34",
         "5.5",
         "4.2",
         "1.4",
         "0.2",
         "Iris-setosa"
        ],
        [
         "35",
         "4.9",
         "3.1",
         "1.5",
         "0.1",
         "Iris-setosa"
        ],
        [
         "36",
         "5",
         "3.2",
         "1.2",
         "0.2",
         "Iris-setosa"
        ],
        [
         "37",
         "5.5",
         "3.5",
         "1.3",
         "0.2",
         "Iris-setosa"
        ],
        [
         "38",
         "4.9",
         "3.1",
         "1.5",
         "0.1",
         "Iris-setosa"
        ],
        [
         "39",
         "4.4",
         "3",
         "1.3",
         "0.2",
         "Iris-setosa"
        ],
        [
         "40",
         "5.1",
         "3.4",
         "1.5",
         "0.2",
         "Iris-setosa"
        ],
        [
         "41",
         "5",
         "3.5",
         "1.3",
         "0.3",
         "Iris-setosa"
        ],
        [
         "42",
         "4.5",
         "2.3",
         "1.3",
         "0.3",
         "Iris-setosa"
        ],
        [
         "43",
         "4.4",
         "3.2",
         "1.3",
         "0.2",
         "Iris-setosa"
        ],
        [
         "44",
         "5",
         "3.5",
         "1.6",
         "0.6",
         "Iris-setosa"
        ],
        [
         "45",
         "5.1",
         "3.8",
         "1.9",
         "0.4",
         "Iris-setosa"
        ],
        [
         "46",
         "4.8",
         "3",
         "1.4",
         "0.3",
         "Iris-setosa"
        ],
        [
         "47",
         "5.1",
         "3.8",
         "1.6",
         "0.2",
         "Iris-setosa"
        ],
        [
         "48",
         "4.6",
         "3.2",
         "1.4",
         "0.2",
         "Iris-setosa"
        ],
        [
         "49",
         "5.3",
         "3.7",
         "1.5",
         "0.2",
         "Iris-setosa"
        ],
        [
         "50",
         "5",
         "3.3",
         "1.4",
         "0.2",
         "Iris-setosa"
        ],
        [
         "51",
         "7",
         "3.2",
         "4.7",
         "1.4",
         "Iris-versicolor"
        ],
        [
         "52",
         "6.4",
         "3.2",
         "4.5",
         "1.5",
         "Iris-versicolor"
        ],
        [
         "53",
         "6.9",
         "3.1",
         "4.9",
         "1.5",
         "Iris-versicolor"
        ],
        [
         "54",
         "5.5",
         "2.3",
         "4",
         "1.3",
         "Iris-versicolor"
        ],
        [
         "55",
         "6.5",
         "2.8",
         "4.6",
         "1.5",
         "Iris-versicolor"
        ],
        [
         "56",
         "5.7",
         "2.8",
         "4.5",
         "1.3",
         "Iris-versicolor"
        ],
        [
         "57",
         "6.3",
         "3.3",
         "4.7",
         "1.6",
         "Iris-versicolor"
        ],
        [
         "58",
         "4.9",
         "2.4",
         "3.3",
         "1",
         "Iris-versicolor"
        ],
        [
         "59",
         "6.6",
         "2.9",
         "4.6",
         "1.3",
         "Iris-versicolor"
        ],
        [
         "60",
         "5.2",
         "2.7",
         "3.9",
         "1.4",
         "Iris-versicolor"
        ],
        [
         "61",
         "5",
         "2",
         "3.5",
         "1",
         "Iris-versicolor"
        ],
        [
         "62",
         "5.9",
         "3",
         "4.2",
         "1.5",
         "Iris-versicolor"
        ],
        [
         "63",
         "6",
         "2.2",
         "4",
         "1",
         "Iris-versicolor"
        ],
        [
         "64",
         "6.1",
         "2.9",
         "4.7",
         "1.4",
         "Iris-versicolor"
        ],
        [
         "65",
         "5.6",
         "2.9",
         "3.6",
         "1.3",
         "Iris-versicolor"
        ],
        [
         "66",
         "6.7",
         "3.1",
         "4.4",
         "1.4",
         "Iris-versicolor"
        ],
        [
         "67",
         "5.6",
         "3",
         "4.5",
         "1.5",
         "Iris-versicolor"
        ],
        [
         "68",
         "5.8",
         "2.7",
         "4.1",
         "1",
         "Iris-versicolor"
        ],
        [
         "69",
         "6.2",
         "2.2",
         "4.5",
         "1.5",
         "Iris-versicolor"
        ],
        [
         "70",
         "5.6",
         "2.5",
         "3.9",
         "1.1",
         "Iris-versicolor"
        ],
        [
         "71",
         "5.9",
         "3.2",
         "4.8",
         "1.8",
         "Iris-versicolor"
        ],
        [
         "72",
         "6.1",
         "2.8",
         "4",
         "1.3",
         "Iris-versicolor"
        ],
        [
         "73",
         "6.3",
         "2.5",
         "4.9",
         "1.5",
         "Iris-versicolor"
        ],
        [
         "74",
         "6.1",
         "2.8",
         "4.7",
         "1.2",
         "Iris-versicolor"
        ],
        [
         "75",
         "6.4",
         "2.9",
         "4.3",
         "1.3",
         "Iris-versicolor"
        ],
        [
         "76",
         "6.6",
         "3",
         "4.4",
         "1.4",
         "Iris-versicolor"
        ],
        [
         "77",
         "6.8",
         "2.8",
         "4.8",
         "1.4",
         "Iris-versicolor"
        ],
        [
         "78",
         "6.7",
         "3",
         "5",
         "1.7",
         "Iris-versicolor"
        ],
        [
         "79",
         "6",
         "2.9",
         "4.5",
         "1.5",
         "Iris-versicolor"
        ],
        [
         "80",
         "5.7",
         "2.6",
         "3.5",
         "1",
         "Iris-versicolor"
        ],
        [
         "81",
         "5.5",
         "2.4",
         "3.8",
         "1.1",
         "Iris-versicolor"
        ],
        [
         "82",
         "5.5",
         "2.4",
         "3.7",
         "1",
         "Iris-versicolor"
        ],
        [
         "83",
         "5.8",
         "2.7",
         "3.9",
         "1.2",
         "Iris-versicolor"
        ],
        [
         "84",
         "6",
         "2.7",
         "5.1",
         "1.6",
         "Iris-versicolor"
        ],
        [
         "85",
         "5.4",
         "3",
         "4.5",
         "1.5",
         "Iris-versicolor"
        ],
        [
         "86",
         "6",
         "3.4",
         "4.5",
         "1.6",
         "Iris-versicolor"
        ],
        [
         "87",
         "6.7",
         "3.1",
         "4.7",
         "1.5",
         "Iris-versicolor"
        ],
        [
         "88",
         "6.3",
         "2.3",
         "4.4",
         "1.3",
         "Iris-versicolor"
        ],
        [
         "89",
         "5.6",
         "3",
         "4.1",
         "1.3",
         "Iris-versicolor"
        ],
        [
         "90",
         "5.5",
         "2.5",
         "4",
         "1.3",
         "Iris-versicolor"
        ],
        [
         "91",
         "5.5",
         "2.6",
         "4.4",
         "1.2",
         "Iris-versicolor"
        ],
        [
         "92",
         "6.1",
         "3",
         "4.6",
         "1.4",
         "Iris-versicolor"
        ],
        [
         "93",
         "5.8",
         "2.6",
         "4",
         "1.2",
         "Iris-versicolor"
        ],
        [
         "94",
         "5",
         "2.3",
         "3.3",
         "1",
         "Iris-versicolor"
        ],
        [
         "95",
         "5.6",
         "2.7",
         "4.2",
         "1.3",
         "Iris-versicolor"
        ],
        [
         "96",
         "5.7",
         "3",
         "4.2",
         "1.2",
         "Iris-versicolor"
        ],
        [
         "97",
         "5.7",
         "2.9",
         "4.2",
         "1.3",
         "Iris-versicolor"
        ],
        [
         "98",
         "6.2",
         "2.9",
         "4.3",
         "1.3",
         "Iris-versicolor"
        ],
        [
         "99",
         "5.1",
         "2.5",
         "3",
         "1.1",
         "Iris-versicolor"
        ],
        [
         "100",
         "5.7",
         "2.8",
         "4.1",
         "1.3",
         "Iris-versicolor"
        ],
        [
         "101",
         "6.3",
         "3.3",
         "6",
         "2.5",
         "Iris-virginica"
        ],
        [
         "102",
         "5.8",
         "2.7",
         "5.1",
         "1.9",
         "Iris-virginica"
        ],
        [
         "103",
         "7.1",
         "3",
         "5.9",
         "2.1",
         "Iris-virginica"
        ],
        [
         "104",
         "6.3",
         "2.9",
         "5.6",
         "1.8",
         "Iris-virginica"
        ],
        [
         "105",
         "6.5",
         "3",
         "5.8",
         "2.2",
         "Iris-virginica"
        ],
        [
         "106",
         "7.6",
         "3",
         "6.6",
         "2.1",
         "Iris-virginica"
        ],
        [
         "107",
         "4.9",
         "2.5",
         "4.5",
         "1.7",
         "Iris-virginica"
        ],
        [
         "108",
         "7.3",
         "2.9",
         "6.3",
         "1.8",
         "Iris-virginica"
        ],
        [
         "109",
         "6.7",
         "2.5",
         "5.8",
         "1.8",
         "Iris-virginica"
        ],
        [
         "110",
         "7.2",
         "3.6",
         "6.1",
         "2.5",
         "Iris-virginica"
        ],
        [
         "111",
         "6.5",
         "3.2",
         "5.1",
         "2",
         "Iris-virginica"
        ],
        [
         "112",
         "6.4",
         "2.7",
         "5.3",
         "1.9",
         "Iris-virginica"
        ],
        [
         "113",
         "6.8",
         "3",
         "5.5",
         "2.1",
         "Iris-virginica"
        ],
        [
         "114",
         "5.7",
         "2.5",
         "5",
         "2",
         "Iris-virginica"
        ],
        [
         "115",
         "5.8",
         "2.8",
         "5.1",
         "2.4",
         "Iris-virginica"
        ],
        [
         "116",
         "6.4",
         "3.2",
         "5.3",
         "2.3",
         "Iris-virginica"
        ],
        [
         "117",
         "6.5",
         "3",
         "5.5",
         "1.8",
         "Iris-virginica"
        ],
        [
         "118",
         "7.7",
         "3.8",
         "6.7",
         "2.2",
         "Iris-virginica"
        ],
        [
         "119",
         "7.7",
         "2.6",
         "6.9",
         "2.3",
         "Iris-virginica"
        ],
        [
         "120",
         "6",
         "2.2",
         "5",
         "1.5",
         "Iris-virginica"
        ],
        [
         "121",
         "6.9",
         "3.2",
         "5.7",
         "2.3",
         "Iris-virginica"
        ],
        [
         "122",
         "5.6",
         "2.8",
         "4.9",
         "2",
         "Iris-virginica"
        ],
        [
         "123",
         "7.7",
         "2.8",
         "6.7",
         "2",
         "Iris-virginica"
        ],
        [
         "124",
         "6.3",
         "2.7",
         "4.9",
         "1.8",
         "Iris-virginica"
        ],
        [
         "125",
         "6.7",
         "3.3",
         "5.7",
         "2.1",
         "Iris-virginica"
        ],
        [
         "126",
         "7.2",
         "3.2",
         "6",
         "1.8",
         "Iris-virginica"
        ],
        [
         "127",
         "6.2",
         "2.8",
         "4.8",
         "1.8",
         "Iris-virginica"
        ],
        [
         "128",
         "6.1",
         "3",
         "4.9",
         "1.8",
         "Iris-virginica"
        ],
        [
         "129",
         "6.4",
         "2.8",
         "5.6",
         "2.1",
         "Iris-virginica"
        ],
        [
         "130",
         "7.2",
         "3",
         "5.8",
         "1.6",
         "Iris-virginica"
        ],
        [
         "131",
         "7.4",
         "2.8",
         "6.1",
         "1.9",
         "Iris-virginica"
        ],
        [
         "132",
         "7.9",
         "3.8",
         "6.4",
         "2",
         "Iris-virginica"
        ],
        [
         "133",
         "6.4",
         "2.8",
         "5.6",
         "2.2",
         "Iris-virginica"
        ],
        [
         "134",
         "6.3",
         "2.8",
         "5.1",
         "1.5",
         "Iris-virginica"
        ],
        [
         "135",
         "6.1",
         "2.6",
         "5.6",
         "1.4",
         "Iris-virginica"
        ],
        [
         "136",
         "7.7",
         "3",
         "6.1",
         "2.3",
         "Iris-virginica"
        ],
        [
         "137",
         "6.3",
         "3.4",
         "5.6",
         "2.4",
         "Iris-virginica"
        ],
        [
         "138",
         "6.4",
         "3.1",
         "5.5",
         "1.8",
         "Iris-virginica"
        ],
        [
         "139",
         "6",
         "3",
         "4.8",
         "1.8",
         "Iris-virginica"
        ],
        [
         "140",
         "6.9",
         "3.1",
         "5.4",
         "2.1",
         "Iris-virginica"
        ],
        [
         "141",
         "6.7",
         "3.1",
         "5.6",
         "2.4",
         "Iris-virginica"
        ],
        [
         "142",
         "6.9",
         "3.1",
         "5.1",
         "2.3",
         "Iris-virginica"
        ],
        [
         "143",
         "5.8",
         "2.7",
         "5.1",
         "1.9",
         "Iris-virginica"
        ],
        [
         "144",
         "6.8",
         "3.2",
         "5.9",
         "2.3",
         "Iris-virginica"
        ],
        [
         "145",
         "6.7",
         "3.3",
         "5.7",
         "2.5",
         "Iris-virginica"
        ],
        [
         "146",
         "6.7",
         "3",
         "5.2",
         "2.3",
         "Iris-virginica"
        ],
        [
         "147",
         "6.3",
         "2.5",
         "5",
         "1.9",
         "Iris-virginica"
        ],
        [
         "148",
         "6.5",
         "3",
         "5.2",
         "2",
         "Iris-virginica"
        ],
        [
         "149",
         "6.2",
         "3.4",
         "5.4",
         "2.3",
         "Iris-virginica"
        ],
        [
         "150",
         "5.9",
         "3",
         "5.1",
         "1.8",
         "Iris-virginica"
        ]
       ],
       "datasetInfos": [],
       "dbfsResultPath": null,
       "isJsonSchema": true,
       "metadata": {},
       "overflow": false,
       "plotOptions": {
        "customPlotOptions": {},
        "displayType": "table",
        "pivotAggregation": null,
        "pivotColumns": null,
        "xColumns": null,
        "yColumns": null
       },
       "removedWidgets": [],
       "schema": [
        {
         "metadata": "{}",
         "name": "Id",
         "type": "\"string\""
        },
        {
         "metadata": "{}",
         "name": "SepalLengthCm",
         "type": "\"string\""
        },
        {
         "metadata": "{}",
         "name": "SepalWidthCm",
         "type": "\"string\""
        },
        {
         "metadata": "{}",
         "name": "PetalLengthCm",
         "type": "\"string\""
        },
        {
         "metadata": "{}",
         "name": "PetalWidthCm",
         "type": "\"string\""
        },
        {
         "metadata": "{}",
         "name": "Species",
         "type": "\"string\""
        }
       ],
       "type": "table"
      }
     },
     "output_type": "display_data"
    }
   ],
   "source": [
    "\n",
    "df = spark.read.format(\"csv\") \\\n",
    "  .option(\"inferSchema\", \"false\") \\\n",
    "  .option(\"header\", \"true\") \\\n",
    "  .option(\"sep\", \",\") \\\n",
    "  .load(\"/FileStore/tables/Iris-1.csv\")\n",
    "\n",
    "display(df)"
   ]
  },
  {
   "cell_type": "code",
   "execution_count": 0,
   "metadata": {
    "application/vnd.databricks.v1+cell": {
     "cellMetadata": {
      "byteLimit": 2048000,
      "rowLimit": 10000
     },
     "inputWidgets": {},
     "nuid": "b54a6592-0734-4bf0-98e8-24f79081404c",
     "showTitle": false,
     "title": ""
    }
   },
   "outputs": [
    {
     "output_type": "stream",
     "name": "stdout",
     "output_type": "stream",
     "text": [
      "+---+-------------+------------+-------------+------------+-----------+\n| Id|SepalLengthCm|SepalWidthCm|PetalLengthCm|PetalWidthCm|    Species|\n+---+-------------+------------+-------------+------------+-----------+\n|  1|          5.1|         3.5|          1.4|         0.2|Iris-setosa|\n|  2|          4.9|           3|          1.4|         0.2|Iris-setosa|\n|  3|          4.7|         3.2|          1.3|         0.2|Iris-setosa|\n|  4|          4.6|         3.1|          1.5|         0.2|Iris-setosa|\n|  5|            5|         3.6|          1.4|         0.2|Iris-setosa|\n|  6|          5.4|         3.9|          1.7|         0.4|Iris-setosa|\n|  7|          4.6|         3.4|          1.4|         0.3|Iris-setosa|\n|  8|            5|         3.4|          1.5|         0.2|Iris-setosa|\n|  9|          4.4|         2.9|          1.4|         0.2|Iris-setosa|\n| 10|          4.9|         3.1|          1.5|         0.1|Iris-setosa|\n+---+-------------+------------+-------------+------------+-----------+\nonly showing top 10 rows\n\n"
     ]
    }
   ],
   "source": [
    "#top 10 rows\n",
    "df.show(10)"
   ]
  },
  {
   "cell_type": "code",
   "execution_count": 0,
   "metadata": {
    "application/vnd.databricks.v1+cell": {
     "cellMetadata": {
      "byteLimit": 2048000,
      "rowLimit": 10000
     },
     "inputWidgets": {},
     "nuid": "10fcee17-99b4-4e08-921a-d14171042072",
     "showTitle": false,
     "title": ""
    }
   },
   "outputs": [
    {
     "output_type": "stream",
     "name": "stdout",
     "output_type": "stream",
     "text": [
      "root\n |-- Id: string (nullable = true)\n |-- SepalLengthCm: string (nullable = true)\n |-- SepalWidthCm: string (nullable = true)\n |-- PetalLengthCm: string (nullable = true)\n |-- PetalWidthCm: string (nullable = true)\n |-- Species: string (nullable = true)\n\n"
     ]
    }
   ],
   "source": [
    "# Get the schema\n",
    "df.printSchema()"
   ]
  },
  {
   "cell_type": "code",
   "execution_count": 0,
   "metadata": {
    "application/vnd.databricks.v1+cell": {
     "cellMetadata": {
      "byteLimit": 2048000,
      "rowLimit": 10000
     },
     "inputWidgets": {},
     "nuid": "f0b1d6a2-9542-461d-8c36-7cb70ba85d93",
     "showTitle": false,
     "title": ""
    }
   },
   "outputs": [
    {
     "output_type": "stream",
     "name": "stdout",
     "output_type": "stream",
     "text": [
      "Out[12]: 150"
     ]
    }
   ],
   "source": [
    "# total number of rows\n",
    "df.count()"
   ]
  },
  {
   "cell_type": "code",
   "execution_count": 0,
   "metadata": {
    "application/vnd.databricks.v1+cell": {
     "cellMetadata": {
      "byteLimit": 2048000,
      "rowLimit": 10000
     },
     "inputWidgets": {},
     "nuid": "6023740c-1991-47c9-be9a-7781cfa29c5f",
     "showTitle": false,
     "title": ""
    }
   },
   "outputs": [
    {
     "output_type": "display_data",
     "data": {
      "text/html": [
       "<style scoped>\n",
       "  .table-result-container {\n",
       "    max-height: 300px;\n",
       "    overflow: auto;\n",
       "  }\n",
       "  table, th, td {\n",
       "    border: 1px solid black;\n",
       "    border-collapse: collapse;\n",
       "  }\n",
       "  th, td {\n",
       "    padding: 5px;\n",
       "  }\n",
       "  th {\n",
       "    text-align: left;\n",
       "  }\n",
       "</style><div class='table-result-container'><table class='table-result'><thead style='background-color: white'><tr><th>Species</th><th>count</th></tr></thead><tbody><tr><td>Iris-virginica</td><td>50</td></tr><tr><td>Iris-setosa</td><td>50</td></tr><tr><td>Iris-versicolor</td><td>50</td></tr></tbody></table></div>"
      ]
     },
     "metadata": {
      "application/vnd.databricks.v1+output": {
       "addedWidgets": {},
       "aggData": [],
       "aggError": "",
       "aggOverflow": false,
       "aggSchema": [],
       "aggSeriesLimitReached": false,
       "aggType": "",
       "arguments": {},
       "columnCustomDisplayInfos": {},
       "data": [
        [
         "Iris-virginica",
         50
        ],
        [
         "Iris-setosa",
         50
        ],
        [
         "Iris-versicolor",
         50
        ]
       ],
       "datasetInfos": [],
       "dbfsResultPath": null,
       "isJsonSchema": true,
       "metadata": {},
       "overflow": false,
       "plotOptions": {
        "customPlotOptions": {},
        "displayType": "table",
        "pivotAggregation": null,
        "pivotColumns": null,
        "xColumns": null,
        "yColumns": null
       },
       "removedWidgets": [],
       "schema": [
        {
         "metadata": "{}",
         "name": "Species",
         "type": "\"string\""
        },
        {
         "metadata": "{}",
         "name": "count",
         "type": "\"long\""
        }
       ],
       "type": "table"
      }
     },
     "output_type": "display_data"
    }
   ],
   "source": [
    "# count of each species\n",
    "count = df.groupBy(\"Species\").count()\n",
    "display(count)"
   ]
  }
 ],
 "metadata": {
  "application/vnd.databricks.v1+notebook": {
   "dashboards": [],
   "language": "python",
   "notebookMetadata": {
    "pythonIndentUnit": 4
   },
   "notebookName": "spark",
   "widgets": {}
  }
 },
 "nbformat": 4,
 "nbformat_minor": 0
}
