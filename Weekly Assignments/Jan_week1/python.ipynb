{
  "nbformat": 4,
  "nbformat_minor": 0,
  "metadata": {
    "colab": {
      "provenance": []
    },
    "kernelspec": {
      "name": "python3",
      "display_name": "Python 3"
    },
    "language_info": {
      "name": "python"
    }
  },
  "cells": [
    {
      "cell_type": "code",
      "execution_count": null,
      "metadata": {
        "id": "RpQ2-pH1w81o",
        "colab": {
          "base_uri": "https://localhost:8080/"
        },
        "outputId": "e4d69d47-5490-4419-bb57-f1bc611c527b"
      },
      "outputs": [
        {
          "output_type": "stream",
          "name": "stdout",
          "text": [
            "The withdrawal was successful. Your current balance is 2700\n",
            "Your balance is 2700\n",
            "Your deposit was successful. Your current balance is 5700\n"
          ]
        }
      ],
      "source": [
        "class bank:\n",
        "    def __init__(self, name, pin, amount):\n",
        "        self.name = name\n",
        "        self.pin = pin\n",
        "        self.amount = amount\n",
        "\n",
        "\n",
        "    def withdrawal(self,money,pin_nm):\n",
        "        if pin_nm == self.pin:\n",
        "            if self.amount > 0:\n",
        "                self.amount -= money\n",
        "                print(f\"The withdrawal was successful. Your current balance is {self.amount}\")\n",
        "            else:\n",
        "                print(\"Insufficient balance\")\n",
        "        else:\n",
        "            print(\"Incorrect pin\")\n",
        "\n",
        "    def deposit(self, money, pin_nm):\n",
        "        if pin_nm == self.pin:\n",
        "            if money > 0:\n",
        "                self.amount += money\n",
        "                print(f\"Your deposit was successful. Your current balance is {self.amount}\")\n",
        "            else:\n",
        "                print(\"Incorrect amount\")\n",
        "        else:\n",
        "            print(\"Incorrect pin\")\n",
        "\n",
        "    def checkBalance(self, pin_nm):\n",
        "        if pin_nm == self.pin:\n",
        "            print(f\"Your balance is {self.amount}\")\n",
        "        else:\n",
        "            print(\"Incorrect pin\")\n",
        "\n",
        "\n",
        "\n",
        "\n",
        "cus = bank(\"ses\",1234,3000)\n",
        "cus.withdrawal(300, 1234)\n",
        "cus.checkBalance(1234)\n",
        "cus.deposit(3000, 1234)\n"
      ]
    },
    {
      "cell_type": "code",
      "source": [
        "# multilevel inheritance\n",
        "class Grandfather:\n",
        "    def __init__(self, gdname):\n",
        "        self.gdname = gdname\n",
        "\n",
        "    def gtname(self):\n",
        "        print('GrandFather:', self.gdname)\n",
        "\n",
        "\n",
        "class Father(Grandfather):\n",
        "    def __init__(self, gdname, fname):\n",
        "        super().__init__(gdname)\n",
        "        self.fname = fname\n",
        "\n",
        "    def ftname(self):\n",
        "        print('Father:', self.fname)\n",
        "\n",
        "class Son(Father):\n",
        "    def __init__(self, gdname, fname, sname):\n",
        "        super().__init__(gdname, fname)\n",
        "        self.sname = sname\n",
        "\n",
        "    def ptname(self):\n",
        "        print('Son:', self.sname)\n",
        "\n",
        "\n",
        "\n",
        "\n",
        "x = Son('avin', 'tomy', 'chako')\n",
        "x.ptname()\n",
        "x.ftname()\n",
        "x.gtname()\n"
      ],
      "metadata": {
        "colab": {
          "base_uri": "https://localhost:8080/"
        },
        "id": "tULZEev00lbW",
        "outputId": "f48f62ef-1e35-4e03-e68f-099388b26192"
      },
      "execution_count": null,
      "outputs": [
        {
          "output_type": "stream",
          "name": "stdout",
          "text": [
            "Son: chako\n",
            "Father: tomy\n",
            "GrandFather: avin\n"
          ]
        }
      ]
    },
    {
      "cell_type": "code",
      "source": [
        "#multiple inheritance\n",
        "class grandfather:\n",
        "    def __init__(self, gdname):\n",
        "        self.gdname = gdname\n",
        "    def gtname(self):\n",
        "        print('GrandFather :', self.gdname)\n",
        "\n",
        "\n",
        "class father():\n",
        "    def __init__(self,fname):\n",
        "        self.fname=fname\n",
        "    def ftname(self):\n",
        "        print('Father :', self.fname)\n",
        "\n",
        "class son(father,grandfather):\n",
        "    def __init__(self, sname, fname, gdname):\n",
        "        self.sname=sname\n",
        "        father.__init__(self,fname)\n",
        "        grandfather.__init__(self,gdname)\n",
        "\n",
        "    def ptname(self):\n",
        "        print('son :', self.sname)\n",
        "\n",
        "\n",
        "x = son('ram', 'krishna', 'rajive')\n",
        "x.ptname()\n",
        "x.ftname()\n",
        "x.gtname()"
      ],
      "metadata": {
        "colab": {
          "base_uri": "https://localhost:8080/"
        },
        "id": "69NuxlEl2KLd",
        "outputId": "a161da19-bdd7-4173-f5c7-1e9d54c33ea9"
      },
      "execution_count": null,
      "outputs": [
        {
          "output_type": "stream",
          "name": "stdout",
          "text": [
            "son : ram\n",
            "Father : krishna\n",
            "GrandFather : rajive\n"
          ]
        }
      ]
    },
    {
      "cell_type": "code",
      "source": [
        "# Decorators\n",
        "def div(a,b):\n",
        "  print(a/b)\n",
        "\n",
        "def smart_div(func):\n",
        "  def inner(a,b):\n",
        "    if a<b:\n",
        "      a,b=b,a\n",
        "    return func(a,b)\n",
        "  return inner\n",
        "\n",
        "div1 = smart_div(div)\n",
        "div1(2,4)"
      ],
      "metadata": {
        "colab": {
          "base_uri": "https://localhost:8080/"
        },
        "id": "c__Lnt5f7sFG",
        "outputId": "3dc78949-abc3-4d65-8190-7e2755908f8a"
      },
      "execution_count": null,
      "outputs": [
        {
          "output_type": "stream",
          "name": "stdout",
          "text": [
            "2.0\n"
          ]
        }
      ]
    },
    {
      "cell_type": "code",
      "source": [
        "def my_fun(*args):\n",
        "    print('name is',args[0])\n",
        "\n",
        "\n",
        "my_fun('sesna', 'tomy')\n",
        "\n"
      ],
      "metadata": {
        "colab": {
          "base_uri": "https://localhost:8080/"
        },
        "id": "aaMnOcwOG-hF",
        "outputId": "f2c7f8fd-7751-451c-d5b0-8692bf7b3f5e"
      },
      "execution_count": 1,
      "outputs": [
        {
          "output_type": "stream",
          "name": "stdout",
          "text": [
            "name is sesna\n"
          ]
        }
      ]
    },
    {
      "cell_type": "code",
      "source": [
        "#Lambda Function\n",
        "x = lambda a: a+5\n",
        "print(x(5))\n",
        "\n"
      ],
      "metadata": {
        "colab": {
          "base_uri": "https://localhost:8080/"
        },
        "id": "DLIHvx9SHDGJ",
        "outputId": "3b29caa3-61c6-479e-c1be-c8d329a9c8c9"
      },
      "execution_count": 2,
      "outputs": [
        {
          "output_type": "stream",
          "name": "stdout",
          "text": [
            "10\n"
          ]
        }
      ]
    },
    {
      "cell_type": "code",
      "source": [
        "#List comprehention\n",
        "lst = [x+5 if x==3 else x +4 if x ==2 else x for x in range(8)]\n",
        "print(lst)"
      ],
      "metadata": {
        "colab": {
          "base_uri": "https://localhost:8080/"
        },
        "id": "TTqs4octHIPX",
        "outputId": "db9017ea-c756-43c9-f8c8-ae6a46d0fb56"
      },
      "execution_count": 3,
      "outputs": [
        {
          "output_type": "stream",
          "name": "stdout",
          "text": [
            "[0, 1, 6, 8, 4, 5, 6, 7]\n"
          ]
        }
      ]
    }
  ]
}