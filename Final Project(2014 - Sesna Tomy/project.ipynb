{
 "cells": [
  {
   "cell_type": "code",
   "execution_count": 1,
   "metadata": {},
   "outputs": [
    {
     "name": "stderr",
     "output_type": "stream",
     "text": [
      "2024-02-06 10:14:01.826500: I tensorflow/core/util/port.cc:110] oneDNN custom operations are on. You may see slightly different numerical results due to floating-point round-off errors from different computation orders. To turn them off, set the environment variable `TF_ENABLE_ONEDNN_OPTS=0`.\n",
      "2024-02-06 10:14:01.915235: I tensorflow/tsl/cuda/cudart_stub.cc:28] Could not find cuda drivers on your machine, GPU will not be used.\n",
      "2024-02-06 10:14:02.607884: I tensorflow/tsl/cuda/cudart_stub.cc:28] Could not find cuda drivers on your machine, GPU will not be used.\n",
      "2024-02-06 10:14:02.611826: I tensorflow/core/platform/cpu_feature_guard.cc:182] This TensorFlow binary is optimized to use available CPU instructions in performance-critical operations.\n",
      "To enable the following instructions: AVX2 AVX512F AVX512_VNNI FMA, in other operations, rebuild TensorFlow with the appropriate compiler flags.\n",
      "2024-02-06 10:14:03.634086: W tensorflow/compiler/tf2tensorrt/utils/py_utils.cc:38] TF-TRT Warning: Could not find TensorRT\n"
     ]
    }
   ],
   "source": [
    "import os\n",
    "import cv2 \n",
    "import pickle\n",
    "import numpy as np\n",
    "import pandas as pd\n",
    "from tqdm import tqdm\n",
    "import streamlit as st\n",
    "import tensorflow as tf \n",
    "import matplotlib.pyplot as plt   \n",
    "from sklearn.utils import shuffle  \n",
    "from sklearn.metrics import accuracy_score\n",
    "from sklearn.metrics import confusion_matrix\n",
    "import seaborn as sns"
   ]
  },
  {
   "cell_type": "code",
   "execution_count": 2,
   "metadata": {},
   "outputs": [
    {
     "data": {
      "text/plain": [
       "6"
      ]
     },
     "execution_count": 2,
     "metadata": {},
     "output_type": "execute_result"
    }
   ],
   "source": [
    "class_names = ['mountain', 'street', 'glacier', 'buildings', 'sea', 'forest']\n",
    "class_names_label = {class_name:i for i, class_name in enumerate(class_names)}\n",
    "\n",
    "nb_classes = len(class_names)\n",
    "\n",
    "IMAGE_SIZE = (150, 150)\n",
    "nb_classes"
   ]
  },
  {
   "cell_type": "code",
   "execution_count": 3,
   "metadata": {},
   "outputs": [],
   "source": [
    "def load_data(num_images_per_class=1000):\n",
    "    \n",
    "    datasets = ['/home/sesna/sesna/image_classification/data', '/home/sesna/sesna/image_classification/seg_test']\n",
    "    output = []\n",
    "    \n",
    "    for dataset in datasets:\n",
    "        \n",
    "        images = []\n",
    "        labels = []\n",
    "        \n",
    "        print(\"Loading {}\".format(dataset))\n",
    "        \n",
    "        for folder in os.listdir(dataset):\n",
    "            label = class_names_label[folder]\n",
    "            \n",
    "            # Track the number of images loaded for each class\n",
    "            images_loaded = 0\n",
    "            \n",
    "            # Iterate through each image in our folder\n",
    "            for file in tqdm(os.listdir(os.path.join(dataset, folder))):\n",
    "                if images_loaded >= num_images_per_class:\n",
    "                    break  # Break the loop if the desired number of images is reached for this class\n",
    "                \n",
    "                img_path = os.path.join(os.path.join(dataset, folder), file)\n",
    "                \n",
    "                image = cv2.imread(img_path)\n",
    "                image = cv2.cvtColor(image, cv2.COLOR_BGR2RGB)\n",
    "                image = cv2.resize(image, IMAGE_SIZE) \n",
    "                \n",
    "                images.append(image)\n",
    "                labels.append(label)\n",
    "                \n",
    "                # Increment the count of images loaded for this class\n",
    "                images_loaded += 1\n",
    "                \n",
    "        images = np.array(images, dtype='float32')\n",
    "        labels = np.array(labels, dtype='int32')   \n",
    "        \n",
    "        output.append((images, labels))\n",
    "\n",
    "    return output\n"
   ]
  },
  {
   "cell_type": "code",
   "execution_count": 4,
   "metadata": {},
   "outputs": [
    {
     "name": "stdout",
     "output_type": "stream",
     "text": [
      "Loading /home/sesna/sesna/image_classification/data\n"
     ]
    },
    {
     "name": "stderr",
     "output_type": "stream",
     "text": [
      " 40%|███▉      | 1000/2512 [00:00<00:00, 1762.91it/s]\n",
      " 44%|████▍     | 1000/2274 [00:00<00:00, 1812.85it/s]\n",
      " 42%|████▏     | 1000/2404 [00:00<00:00, 1769.55it/s]\n",
      " 42%|████▏     | 1000/2382 [00:00<00:00, 1690.01it/s]\n",
      " 46%|████▌     | 1000/2191 [00:00<00:00, 1635.28it/s]\n",
      " 44%|████▍     | 1000/2271 [00:00<00:00, 1612.36it/s]\n"
     ]
    },
    {
     "name": "stdout",
     "output_type": "stream",
     "text": [
      "Loading /home/sesna/sesna/image_classification/seg_test\n"
     ]
    },
    {
     "name": "stderr",
     "output_type": "stream",
     "text": [
      "100%|██████████| 525/525 [00:00<00:00, 1785.61it/s]\n",
      "100%|██████████| 510/510 [00:00<00:00, 1908.68it/s]\n",
      "100%|██████████| 553/553 [00:00<00:00, 1806.83it/s]\n",
      "100%|██████████| 501/501 [00:00<00:00, 1656.67it/s]\n",
      "100%|██████████| 437/437 [00:00<00:00, 1796.60it/s]\n",
      "100%|██████████| 474/474 [00:00<00:00, 1557.90it/s]\n"
     ]
    }
   ],
   "source": [
    "(train_images, train_labels), (test_images, test_labels) = load_data()"
   ]
  },
  {
   "cell_type": "code",
   "execution_count": 5,
   "metadata": {},
   "outputs": [],
   "source": [
    "train_images, train_labels = shuffle(train_images, train_labels, random_state=25)"
   ]
  },
  {
   "cell_type": "code",
   "execution_count": 6,
   "metadata": {},
   "outputs": [
    {
     "name": "stdout",
     "output_type": "stream",
     "text": [
      "Number of training examples: 6000\n",
      "Number of testing examples: 3000\n",
      "Each image is of size: (150, 150)\n"
     ]
    }
   ],
   "source": [
    "n_train = train_labels.shape[0]\n",
    "n_test = test_labels.shape[0]\n",
    "\n",
    "print (\"Number of training examples: {}\".format(n_train))\n",
    "print (\"Number of testing examples: {}\".format(n_test))\n",
    "print (\"Each image is of size: {}\".format(IMAGE_SIZE))"
   ]
  },
  {
   "cell_type": "code",
   "execution_count": 7,
   "metadata": {},
   "outputs": [],
   "source": [
    "train_images = train_images / 255.0 \n"
   ]
  },
  {
   "cell_type": "code",
   "execution_count": 8,
   "metadata": {},
   "outputs": [],
   "source": [
    "test_images = test_images / 255.0"
   ]
  },
  {
   "cell_type": "code",
   "execution_count": 9,
   "metadata": {},
   "outputs": [],
   "source": [
    "\n",
    "model = tf.keras.Sequential([\n",
    "    tf.keras.layers.Conv2D(32, (3, 3), activation = 'relu', input_shape = (150, 150, 3)), \n",
    "    tf.keras.layers.MaxPooling2D(2,2),\n",
    "    tf.keras.layers.Conv2D(32, (3, 3), activation = 'relu'),\n",
    "    tf.keras.layers.MaxPooling2D(2,2),\n",
    "    tf.keras.layers.Flatten(),\n",
    "    tf.keras.layers.Dense(128, activation=tf.nn.relu),\n",
    "    tf.keras.layers.Dense(6, activation=tf.nn.softmax)\n",
    "])"
   ]
  },
  {
   "cell_type": "code",
   "execution_count": 10,
   "metadata": {},
   "outputs": [],
   "source": [
    "model.compile(optimizer = 'adam', loss = 'sparse_categorical_crossentropy', metrics=['accuracy'])"
   ]
  },
  {
   "cell_type": "code",
   "execution_count": 11,
   "metadata": {},
   "outputs": [
    {
     "name": "stdout",
     "output_type": "stream",
     "text": [
      "Epoch 1/10\n",
      "29/29 [==============================] - 15s 482ms/step - loss: 1.2649 - accuracy: 0.5011 - val_loss: 1.0354 - val_accuracy: 0.6021\n",
      "Epoch 2/10\n",
      "29/29 [==============================] - 14s 500ms/step - loss: 0.9323 - accuracy: 0.6431 - val_loss: 0.8745 - val_accuracy: 0.6721\n",
      "Epoch 3/10\n",
      "29/29 [==============================] - 15s 529ms/step - loss: 0.7423 - accuracy: 0.7275 - val_loss: 0.8655 - val_accuracy: 0.6725\n",
      "Epoch 4/10\n",
      "29/29 [==============================] - 14s 469ms/step - loss: 0.6220 - accuracy: 0.7772 - val_loss: 0.8217 - val_accuracy: 0.6942\n",
      "Epoch 5/10\n",
      "29/29 [==============================] - 14s 476ms/step - loss: 0.4522 - accuracy: 0.8439 - val_loss: 0.7038 - val_accuracy: 0.7550\n",
      "Epoch 6/10\n",
      "29/29 [==============================] - 14s 484ms/step - loss: 0.3074 - accuracy: 0.9047 - val_loss: 0.7142 - val_accuracy: 0.7504\n",
      "Epoch 7/10\n",
      "29/29 [==============================] - 14s 470ms/step - loss: 0.2322 - accuracy: 0.9256 - val_loss: 1.3676 - val_accuracy: 0.6146\n",
      "Epoch 8/10\n",
      "29/29 [==============================] - 15s 529ms/step - loss: 0.2638 - accuracy: 0.9211 - val_loss: 0.7476 - val_accuracy: 0.7563\n",
      "Epoch 9/10\n",
      "29/29 [==============================] - 14s 485ms/step - loss: 0.1132 - accuracy: 0.9717 - val_loss: 0.7972 - val_accuracy: 0.7546\n",
      "Epoch 10/10\n",
      "29/29 [==============================] - 14s 487ms/step - loss: 0.0809 - accuracy: 0.9842 - val_loss: 0.8340 - val_accuracy: 0.7554\n"
     ]
    }
   ],
   "source": [
    "history = model.fit(train_images, train_labels, batch_size=128, epochs=10, validation_split = 0.4)"
   ]
  },
  {
   "cell_type": "code",
   "execution_count": 12,
   "metadata": {},
   "outputs": [],
   "source": [
    "def plot_accuracy_loss(history):\n",
    "    \"\"\"\n",
    "        Plot the accuracy and the loss during the training of the nn.\n",
    "    \"\"\"\n",
    "    fig = plt.figure(figsize=(10,5))\n",
    "\n",
    "    # Plot accuracy\n",
    "    plt.subplot(221)\n",
    "    plt.plot(history.history['accuracy'],'bo--', label = \"acc\")\n",
    "    plt.plot(history.history['val_accuracy'], 'ro--', label = \"val_acc\")\n",
    "    plt.title(\"train_acc vs val_acc\")\n",
    "    plt.ylabel(\"accuracy\")\n",
    "    plt.xlabel(\"epochs\")\n",
    "    plt.legend()\n",
    "\n",
    "    # Plot loss function\n",
    "    plt.subplot(222)\n",
    "    plt.plot(history.history['loss'],'bo--', label = \"loss\")\n",
    "    plt.plot(history.history['val_loss'], 'ro--', label = \"val_loss\")\n",
    "    plt.title(\"train_loss vs val_loss\")\n",
    "    plt.ylabel(\"loss\")\n",
    "    plt.xlabel(\"epochs\")\n",
    "\n",
    "    plt.legend()\n",
    "    plt.show()"
   ]
  },
  {
   "cell_type": "code",
   "execution_count": 13,
   "metadata": {},
   "outputs": [
    {
     "data": {
      "image/png": "[encoded data removed]",
      "text/plain": [
       "<Figure size 1000x500 with 2 Axes>"
      ]
     },
     "metadata": {},
     "output_type": "display_data"
    }
   ],
   "source": [
    "plot_accuracy_loss(history)"
   ]
  },
  {
   "cell_type": "code",
   "execution_count": 14,
   "metadata": {},
   "outputs": [
    {
     "name": "stdout",
     "output_type": "stream",
     "text": [
      "94/94 [==============================] - 3s 34ms/step - loss: 0.9073 - accuracy: 0.7440\n",
      "Test Loss: 0.9073020815849304\n",
      "Test Accuracy: 0.7440000176429749\n"
     ]
    }
   ],
   "source": [
    "test_loss, accuracy = model.evaluate(test_images, test_labels)\n",
    "print(f'Test Loss: {test_loss}')\n",
    "print(f'Test Accuracy: {accuracy}')\n"
   ]
  },
  {
   "cell_type": "code",
   "execution_count": 15,
   "metadata": {},
   "outputs": [
    {
     "name": "stdout",
     "output_type": "stream",
     "text": [
      "94/94 [==============================] - 3s 33ms/step\n"
     ]
    },
    {
     "data": {
      "text/plain": [
       "0.744"
      ]
     },
     "execution_count": 15,
     "metadata": {},
     "output_type": "execute_result"
    }
   ],
   "source": [
    "predictions = model.predict(test_images)     \n",
    "pred_labels = np.argmax(predictions, axis = 1) \n",
    "Accuracy = accuracy_score(test_labels,pred_labels)\n",
    "Accuracy"
   ]
  },
  {
   "cell_type": "code",
   "execution_count": 16,
   "metadata": {},
   "outputs": [],
   "source": [
    "from tensorflow.keras.applications import VGG16\n",
    "from tensorflow.keras.utils import to_categorical\n",
    "from sklearn.model_selection import train_test_split\n",
    "from tensorflow.keras.optimizers import Adam"
   ]
  },
  {
   "cell_type": "code",
   "execution_count": 17,
   "metadata": {},
   "outputs": [],
   "source": [
    "# Split the data into training and validation sets\n",
    "train_images, val_images, train_labels, val_labels = train_test_split(train_images, train_labels, test_size=0.4, random_state=42)"
   ]
  },
  {
   "cell_type": "code",
   "execution_count": 18,
   "metadata": {},
   "outputs": [],
   "source": [
    "base_model = VGG16(weights='imagenet', include_top=False, input_shape=(150, 150, 3))"
   ]
  },
  {
   "cell_type": "code",
   "execution_count": 19,
   "metadata": {},
   "outputs": [],
   "source": [
    "for layer in base_model.layers:\n",
    "    layer.trainable = False\n",
    "\n",
    "# Create a new model by adding your own top layers on top of the pre-trained VGG16 base\n",
    "model = tf.keras.Sequential([\n",
    "    base_model,\n",
    "    tf.keras.layers.Flatten(),\n",
    "    tf.keras.layers.Dense(256, activation='relu'),\n",
    "    tf.keras.layers.Dense(128, activation='relu'),\n",
    "    tf.keras.layers.Dense(6, activation='softmax')\n",
    "])"
   ]
  },
  {
   "cell_type": "code",
   "execution_count": 20,
   "metadata": {},
   "outputs": [
    {
     "name": "stderr",
     "output_type": "stream",
     "text": [
      "WARNING:absl:`lr` is deprecated in Keras optimizer, please use `learning_rate` or use the legacy optimizer, e.g.,tf.keras.optimizers.legacy.Adam.\n"
     ]
    }
   ],
   "source": [
    "# Compile the model\n",
    "model.compile(optimizer=Adam(lr=0.001), loss='sparse_categorical_crossentropy', metrics=['accuracy'])"
   ]
  },
  {
   "cell_type": "code",
   "execution_count": 21,
   "metadata": {},
   "outputs": [
    {
     "name": "stdout",
     "output_type": "stream",
     "text": [
      "Epoch 1/10\n",
      "27/27 [==============================] - 158s 6s/step - loss: 0.7019 - accuracy: 0.7321 - val_loss: 0.4493 - val_accuracy: 0.8194\n",
      "Epoch 2/10\n",
      "27/27 [==============================] - 168s 6s/step - loss: 0.3202 - accuracy: 0.8822 - val_loss: 0.4941 - val_accuracy: 0.8472\n",
      "Epoch 3/10\n",
      "27/27 [==============================] - 171s 6s/step - loss: 0.2318 - accuracy: 0.9204 - val_loss: 0.3805 - val_accuracy: 0.8542\n",
      "Epoch 4/10\n",
      "27/27 [==============================] - 171s 6s/step - loss: 0.1522 - accuracy: 0.9523 - val_loss: 0.5220 - val_accuracy: 0.8264\n",
      "Epoch 5/10\n",
      "27/27 [==============================] - 168s 6s/step - loss: 0.1403 - accuracy: 0.9552 - val_loss: 0.4266 - val_accuracy: 0.8542\n",
      "Epoch 6/10\n",
      "27/27 [==============================] - 171s 6s/step - loss: 0.0859 - accuracy: 0.9783 - val_loss: 0.4382 - val_accuracy: 0.8403\n",
      "Epoch 7/10\n",
      "27/27 [==============================] - 169s 6s/step - loss: 0.0586 - accuracy: 0.9861 - val_loss: 0.4625 - val_accuracy: 0.8681\n",
      "Epoch 8/10\n",
      "27/27 [==============================] - 171s 6s/step - loss: 0.0448 - accuracy: 0.9913 - val_loss: 0.5064 - val_accuracy: 0.8403\n",
      "Epoch 9/10\n",
      "27/27 [==============================] - 171s 6s/step - loss: 0.0403 - accuracy: 0.9896 - val_loss: 0.5287 - val_accuracy: 0.8472\n",
      "Epoch 10/10\n",
      "27/27 [==============================] - 167s 6s/step - loss: 0.0373 - accuracy: 0.9887 - val_loss: 0.5854 - val_accuracy: 0.8681\n"
     ]
    }
   ],
   "source": [
    "# Train the model\n",
    "history = model.fit(train_images, train_labels, validation_split=0.04,epochs=10, batch_size=128)"
   ]
  },
  {
   "cell_type": "code",
   "execution_count": 23,
   "metadata": {},
   "outputs": [],
   "source": [
    "with open('training_history1.pkl', 'wb') as file:\n",
    "   pickle.dump(history.history, file)"
   ]
  },
  {
   "cell_type": "code",
   "execution_count": 22,
   "metadata": {},
   "outputs": [
    {
     "name": "stdout",
     "output_type": "stream",
     "text": [
      "94/94 [==============================] - 134s 1s/step - loss: 0.5678 - accuracy: 0.8373\n",
      "Test Accuracy: 83.73%\n"
     ]
    }
   ],
   "source": [
    "# Evaluate the model on the test set\n",
    "test_loss, test_accuracy = model.evaluate(test_images, test_labels)\n",
    "print(f\"Test Accuracy: {test_accuracy * 100:.2f}%\")"
   ]
  },
  {
   "cell_type": "code",
   "execution_count": 24,
   "metadata": {},
   "outputs": [],
   "source": [
    "from tensorflow.keras.models import load_model"
   ]
  },
  {
   "cell_type": "code",
   "execution_count": 25,
   "metadata": {},
   "outputs": [
    {
     "name": "stderr",
     "output_type": "stream",
     "text": [
      "/home/sesna/.local/lib/python3.8/site-packages/keras/src/engine/training.py:3000: UserWarning: You are saving your model as an HDF5 file via `model.save()`. This file format is considered legacy. We recommend using instead the native Keras format, e.g. `model.save('my_model.keras')`.\n",
      "  saving_api.save_model(\n"
     ]
    }
   ],
   "source": [
    "model.save(os.path.join('models','imageclassifier1.h5'))"
   ]
  }
 ],
 "metadata": {
  "kernelspec": {
   "display_name": "Python 3",
   "language": "python",
   "name": "python3"
  },
  "language_info": {
   "codemirror_mode": {
    "name": "ipython",
    "version": 3
   },
   "file_extension": ".py",
   "mimetype": "text/x-python",
   "name": "python",
   "nbconvert_exporter": "python",
   "pygments_lexer": "ipython3",
   "version": "3.8.10"
  },
  "orig_nbformat": 4
 },
 "nbformat": 4,
 "nbformat_minor": 2
}
